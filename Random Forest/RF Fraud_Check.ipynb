{
 "cells": [
  {
   "cell_type": "code",
   "execution_count": 1,
   "id": "598a9810",
   "metadata": {},
   "outputs": [],
   "source": [
    "#load the data\n",
    "import pandas as pd\n",
    "import numpy as np"
   ]
  },
  {
   "cell_type": "code",
   "execution_count": 2,
   "id": "b4263ba2",
   "metadata": {},
   "outputs": [
    {
     "data": {
      "text/html": [
       "<div>\n",
       "<style scoped>\n",
       "    .dataframe tbody tr th:only-of-type {\n",
       "        vertical-align: middle;\n",
       "    }\n",
       "\n",
       "    .dataframe tbody tr th {\n",
       "        vertical-align: top;\n",
       "    }\n",
       "\n",
       "    .dataframe thead th {\n",
       "        text-align: right;\n",
       "    }\n",
       "</style>\n",
       "<table border=\"1\" class=\"dataframe\">\n",
       "  <thead>\n",
       "    <tr style=\"text-align: right;\">\n",
       "      <th></th>\n",
       "      <th>Undergrad</th>\n",
       "      <th>Marital.Status</th>\n",
       "      <th>Taxable.Income</th>\n",
       "      <th>City.Population</th>\n",
       "      <th>Work.Experience</th>\n",
       "      <th>Urban</th>\n",
       "    </tr>\n",
       "  </thead>\n",
       "  <tbody>\n",
       "    <tr>\n",
       "      <th>0</th>\n",
       "      <td>NO</td>\n",
       "      <td>Single</td>\n",
       "      <td>68833</td>\n",
       "      <td>50047</td>\n",
       "      <td>10</td>\n",
       "      <td>YES</td>\n",
       "    </tr>\n",
       "    <tr>\n",
       "      <th>1</th>\n",
       "      <td>YES</td>\n",
       "      <td>Divorced</td>\n",
       "      <td>33700</td>\n",
       "      <td>134075</td>\n",
       "      <td>18</td>\n",
       "      <td>YES</td>\n",
       "    </tr>\n",
       "    <tr>\n",
       "      <th>2</th>\n",
       "      <td>NO</td>\n",
       "      <td>Married</td>\n",
       "      <td>36925</td>\n",
       "      <td>160205</td>\n",
       "      <td>30</td>\n",
       "      <td>YES</td>\n",
       "    </tr>\n",
       "    <tr>\n",
       "      <th>3</th>\n",
       "      <td>YES</td>\n",
       "      <td>Single</td>\n",
       "      <td>50190</td>\n",
       "      <td>193264</td>\n",
       "      <td>15</td>\n",
       "      <td>YES</td>\n",
       "    </tr>\n",
       "    <tr>\n",
       "      <th>4</th>\n",
       "      <td>NO</td>\n",
       "      <td>Married</td>\n",
       "      <td>81002</td>\n",
       "      <td>27533</td>\n",
       "      <td>28</td>\n",
       "      <td>NO</td>\n",
       "    </tr>\n",
       "  </tbody>\n",
       "</table>\n",
       "</div>"
      ],
      "text/plain": [
       "  Undergrad Marital.Status  Taxable.Income  City.Population  Work.Experience  \\\n",
       "0        NO         Single           68833            50047               10   \n",
       "1       YES       Divorced           33700           134075               18   \n",
       "2        NO        Married           36925           160205               30   \n",
       "3       YES         Single           50190           193264               15   \n",
       "4        NO        Married           81002            27533               28   \n",
       "\n",
       "  Urban  \n",
       "0   YES  \n",
       "1   YES  \n",
       "2   YES  \n",
       "3   YES  \n",
       "4    NO  "
      ]
     },
     "execution_count": 2,
     "metadata": {},
     "output_type": "execute_result"
    }
   ],
   "source": [
    "df = pd.read_csv(\"C:\\\\Users\\\\PC-LENOVO\\\\Desktop\\\\ExcelR Assginments\\\\Random Forest\\\\Fraud_check.csv\")\n",
    "df.head()"
   ]
  },
  {
   "cell_type": "code",
   "execution_count": 3,
   "id": "b0e1b37c",
   "metadata": {},
   "outputs": [
    {
     "name": "stdout",
     "output_type": "stream",
     "text": [
      "<class 'pandas.core.frame.DataFrame'>\n",
      "RangeIndex: 600 entries, 0 to 599\n",
      "Data columns (total 6 columns):\n",
      " #   Column           Non-Null Count  Dtype \n",
      "---  ------           --------------  ----- \n",
      " 0   Undergrad        600 non-null    object\n",
      " 1   Marital.Status   600 non-null    object\n",
      " 2   Taxable.Income   600 non-null    int64 \n",
      " 3   City.Population  600 non-null    int64 \n",
      " 4   Work.Experience  600 non-null    int64 \n",
      " 5   Urban            600 non-null    object\n",
      "dtypes: int64(3), object(3)\n",
      "memory usage: 28.2+ KB\n"
     ]
    }
   ],
   "source": [
    "df.info()"
   ]
  },
  {
   "cell_type": "code",
   "execution_count": 4,
   "id": "54c2e976",
   "metadata": {},
   "outputs": [
    {
     "data": {
      "text/plain": [
       "(600, 6)"
      ]
     },
     "execution_count": 4,
     "metadata": {},
     "output_type": "execute_result"
    }
   ],
   "source": [
    "df.shape   #(600,6)"
   ]
  },
  {
   "cell_type": "code",
   "execution_count": 5,
   "id": "ddc5b7e5",
   "metadata": {},
   "outputs": [
    {
     "data": {
      "text/plain": [
       "array([[<AxesSubplot:title={'center':'Taxable.Income'}>,\n",
       "        <AxesSubplot:title={'center':'City.Population'}>],\n",
       "       [<AxesSubplot:title={'center':'Work.Experience'}>, <AxesSubplot:>]],\n",
       "      dtype=object)"
      ]
     },
     "execution_count": 5,
     "metadata": {},
     "output_type": "execute_result"
    },
    {
     "data": {
      "image/png": "[encoded data removed]",
      "text/plain": [
       "<Figure size 640x480 with 4 Axes>"
      ]
     },
     "metadata": {},
     "output_type": "display_data"
    }
   ],
   "source": [
    "df.hist()"
   ]
  },
  {
   "cell_type": "code",
   "execution_count": 6,
   "id": "6e436d8b",
   "metadata": {},
   "outputs": [],
   "source": [
    "# Create the target variable\n",
    "df[\"Taxable.Income\"] = df[\"Taxable.Income\"].apply(lambda x: \"Risky\" if x <= 30000 else \"Good\")"
   ]
  },
  {
   "cell_type": "code",
   "execution_count": 7,
   "id": "e1583460",
   "metadata": {},
   "outputs": [
    {
     "data": {
      "text/plain": [
       "0      Good\n",
       "1      Good\n",
       "2      Good\n",
       "3      Good\n",
       "4      Good\n",
       "       ... \n",
       "595    Good\n",
       "596    Good\n",
       "597    Good\n",
       "598    Good\n",
       "599    Good\n",
       "Name: Taxable.Income, Length: 600, dtype: object"
      ]
     },
     "execution_count": 7,
     "metadata": {},
     "output_type": "execute_result"
    }
   ],
   "source": [
    "df[\"Taxable.Income\"]"
   ]
  },
  {
   "cell_type": "code",
   "execution_count": 8,
   "id": "7081d992",
   "metadata": {},
   "outputs": [
    {
     "name": "stderr",
     "output_type": "stream",
     "text": [
      "C:\\Users\\PC-LENOVO\\anaconda3\\lib\\site-packages\\scipy\\__init__.py:155: UserWarning: A NumPy version >=1.18.5 and <1.25.0 is required for this version of SciPy (detected version 1.26.3\n",
      "  warnings.warn(f\"A NumPy version >={np_minversion} and <{np_maxversion}\"\n"
     ]
    }
   ],
   "source": [
    "#EDA----->EXPLORATORY DATA ANALYSIS\n",
    "#BOXPLOT AND OUTLIERS CALCULATION #\n",
    "import seaborn as sns\n",
    "import matplotlib.pyplot as plt"
   ]
  },
  {
   "cell_type": "code",
   "execution_count": 9,
   "id": "bf6f32ce",
   "metadata": {},
   "outputs": [],
   "source": [
    "data = df.iloc[:,3:5]"
   ]
  },
  {
   "cell_type": "code",
   "execution_count": 10,
   "id": "9cd929db",
   "metadata": {},
   "outputs": [
    {
     "data": {
      "image/png": "[encoded data removed]",
      "text/plain": [
       "<Figure size 800x600 with 1 Axes>"
      ]
     },
     "metadata": {},
     "output_type": "display_data"
    },
    {
     "data": {
      "image/png": "[encoded data removed]",
      "text/plain": [
       "<Figure size 800x600 with 1 Axes>"
      ]
     },
     "metadata": {},
     "output_type": "display_data"
    }
   ],
   "source": [
    "for column in data:\n",
    "    plt.figure(figsize=(8, 6))  \n",
    "    sns.boxplot(x=df[column])\n",
    "    plt.title(\" Horizontal Box Plot of column\")\n",
    "    plt.show()"
   ]
  },
  {
   "cell_type": "code",
   "execution_count": 11,
   "id": "f58d6c29",
   "metadata": {},
   "outputs": [
    {
     "data": {
      "text/html": [
       "<div>\n",
       "<style scoped>\n",
       "    .dataframe tbody tr th:only-of-type {\n",
       "        vertical-align: middle;\n",
       "    }\n",
       "\n",
       "    .dataframe tbody tr th {\n",
       "        vertical-align: top;\n",
       "    }\n",
       "\n",
       "    .dataframe thead th {\n",
       "        text-align: right;\n",
       "    }\n",
       "</style>\n",
       "<table border=\"1\" class=\"dataframe\">\n",
       "  <thead>\n",
       "    <tr style=\"text-align: right;\">\n",
       "      <th></th>\n",
       "      <th>City.Population</th>\n",
       "      <th>Work.Experience</th>\n",
       "    </tr>\n",
       "  </thead>\n",
       "  <tbody>\n",
       "    <tr>\n",
       "      <th>0</th>\n",
       "      <td>50047</td>\n",
       "      <td>10</td>\n",
       "    </tr>\n",
       "    <tr>\n",
       "      <th>1</th>\n",
       "      <td>134075</td>\n",
       "      <td>18</td>\n",
       "    </tr>\n",
       "    <tr>\n",
       "      <th>2</th>\n",
       "      <td>160205</td>\n",
       "      <td>30</td>\n",
       "    </tr>\n",
       "    <tr>\n",
       "      <th>3</th>\n",
       "      <td>193264</td>\n",
       "      <td>15</td>\n",
       "    </tr>\n",
       "    <tr>\n",
       "      <th>4</th>\n",
       "      <td>27533</td>\n",
       "      <td>28</td>\n",
       "    </tr>\n",
       "    <tr>\n",
       "      <th>...</th>\n",
       "      <td>...</td>\n",
       "      <td>...</td>\n",
       "    </tr>\n",
       "    <tr>\n",
       "      <th>595</th>\n",
       "      <td>39492</td>\n",
       "      <td>7</td>\n",
       "    </tr>\n",
       "    <tr>\n",
       "      <th>596</th>\n",
       "      <td>55369</td>\n",
       "      <td>2</td>\n",
       "    </tr>\n",
       "    <tr>\n",
       "      <th>597</th>\n",
       "      <td>154058</td>\n",
       "      <td>0</td>\n",
       "    </tr>\n",
       "    <tr>\n",
       "      <th>598</th>\n",
       "      <td>180083</td>\n",
       "      <td>17</td>\n",
       "    </tr>\n",
       "    <tr>\n",
       "      <th>599</th>\n",
       "      <td>158137</td>\n",
       "      <td>16</td>\n",
       "    </tr>\n",
       "  </tbody>\n",
       "</table>\n",
       "<p>600 rows × 2 columns</p>\n",
       "</div>"
      ],
      "text/plain": [
       "     City.Population  Work.Experience\n",
       "0              50047               10\n",
       "1             134075               18\n",
       "2             160205               30\n",
       "3             193264               15\n",
       "4              27533               28\n",
       "..               ...              ...\n",
       "595            39492                7\n",
       "596            55369                2\n",
       "597           154058                0\n",
       "598           180083               17\n",
       "599           158137               16\n",
       "\n",
       "[600 rows x 2 columns]"
      ]
     },
     "execution_count": 11,
     "metadata": {},
     "output_type": "execute_result"
    }
   ],
   "source": [
    "#Removing the outliers\n",
    "df1 = df.iloc[:,3:5]\n",
    "df1"
   ]
  },
  {
   "cell_type": "code",
   "execution_count": 12,
   "id": "6be97fec",
   "metadata": {},
   "outputs": [],
   "source": [
    "from scipy import stats\n",
    "# Define a threshold for Z-score (e.g., Z-score greater than 3 or less than -3 indicates an outlier)\n",
    "z_threshold = 3"
   ]
  },
  {
   "cell_type": "code",
   "execution_count": 13,
   "id": "edb7ba68",
   "metadata": {},
   "outputs": [],
   "source": [
    "# Calculate the Z-scores for each column in the DataFrame\n",
    "import numpy as np\n",
    "z_scores = np.abs(stats.zscore(df1))"
   ]
  },
  {
   "cell_type": "code",
   "execution_count": 14,
   "id": "4329ea10",
   "metadata": {},
   "outputs": [
    {
     "data": {
      "text/plain": [
       "0      False\n",
       "1      False\n",
       "2      False\n",
       "3      False\n",
       "4      False\n",
       "       ...  \n",
       "595    False\n",
       "596    False\n",
       "597    False\n",
       "598    False\n",
       "599    False\n",
       "Length: 600, dtype: bool"
      ]
     },
     "execution_count": 14,
     "metadata": {},
     "output_type": "execute_result"
    }
   ],
   "source": [
    "# Create a mask to identify rows with outliers\n",
    "outlier_mask = (z_scores > z_threshold).any(axis=1)\n",
    "outlier_mask"
   ]
  },
  {
   "cell_type": "code",
   "execution_count": 15,
   "id": "2e4fb5e6",
   "metadata": {},
   "outputs": [
    {
     "data": {
      "text/plain": [
       "(600, 6)"
      ]
     },
     "execution_count": 15,
     "metadata": {},
     "output_type": "execute_result"
    }
   ],
   "source": [
    "# Remove rows with outliers from the DataFrame\n",
    "df = df[~outlier_mask]\n",
    "df.shape  #(600, 6)"
   ]
  },
  {
   "cell_type": "code",
   "execution_count": 16,
   "id": "89d6ff78",
   "metadata": {},
   "outputs": [
    {
     "data": {
      "text/plain": [
       "array([[<AxesSubplot:title={'center':'City.Population'}>,\n",
       "        <AxesSubplot:title={'center':'Work.Experience'}>]], dtype=object)"
      ]
     },
     "execution_count": 16,
     "metadata": {},
     "output_type": "execute_result"
    },
    {
     "data": {
      "image/png": "[encoded data removed]",
      "text/plain": [
       "<Figure size 640x480 with 2 Axes>"
      ]
     },
     "metadata": {},
     "output_type": "display_data"
    }
   ],
   "source": [
    "# Outliers were removed from the dataset based on Z-scores.\n",
    "# Now, df contains the data with outliers removed\n",
    "\n",
    "#HISTOGRAM BUILDING, SKEWNESS AND KURTOSIS CALCULATION #\n",
    "df.hist()"
   ]
  },
  {
   "cell_type": "code",
   "execution_count": 17,
   "id": "4bc02ad6",
   "metadata": {},
   "outputs": [
    {
     "name": "stderr",
     "output_type": "stream",
     "text": [
      "C:\\Users\\PC-LENOVO\\AppData\\Local\\Temp\\ipykernel_9220\\1665899112.py:1: FutureWarning: Dropping of nuisance columns in DataFrame reductions (with 'numeric_only=None') is deprecated; in a future version this will raise TypeError.  Select only valid columns before calling the reduction.\n",
      "  df.skew()\n"
     ]
    },
    {
     "data": {
      "text/plain": [
       "City.Population    0.125009\n",
       "Work.Experience    0.018529\n",
       "dtype: float64"
      ]
     },
     "execution_count": 17,
     "metadata": {},
     "output_type": "execute_result"
    }
   ],
   "source": [
    "df.skew()"
   ]
  },
  {
   "cell_type": "code",
   "execution_count": 18,
   "id": "9ca6a2c6",
   "metadata": {},
   "outputs": [
    {
     "name": "stderr",
     "output_type": "stream",
     "text": [
      "C:\\Users\\PC-LENOVO\\AppData\\Local\\Temp\\ipykernel_9220\\1257127604.py:1: FutureWarning: Dropping of nuisance columns in DataFrame reductions (with 'numeric_only=None') is deprecated; in a future version this will raise TypeError.  Select only valid columns before calling the reduction.\n",
      "  df.kurt()\n"
     ]
    },
    {
     "data": {
      "text/plain": [
       "City.Population   -1.120154\n",
       "Work.Experience   -1.167524\n",
       "dtype: float64"
      ]
     },
     "execution_count": 18,
     "metadata": {},
     "output_type": "execute_result"
    }
   ],
   "source": [
    "df.kurt()"
   ]
  },
  {
   "cell_type": "code",
   "execution_count": 19,
   "id": "2d696c67",
   "metadata": {},
   "outputs": [
    {
     "data": {
      "text/html": [
       "<div>\n",
       "<style scoped>\n",
       "    .dataframe tbody tr th:only-of-type {\n",
       "        vertical-align: middle;\n",
       "    }\n",
       "\n",
       "    .dataframe tbody tr th {\n",
       "        vertical-align: top;\n",
       "    }\n",
       "\n",
       "    .dataframe thead th {\n",
       "        text-align: right;\n",
       "    }\n",
       "</style>\n",
       "<table border=\"1\" class=\"dataframe\">\n",
       "  <thead>\n",
       "    <tr style=\"text-align: right;\">\n",
       "      <th></th>\n",
       "      <th>City.Population</th>\n",
       "      <th>Work.Experience</th>\n",
       "    </tr>\n",
       "  </thead>\n",
       "  <tbody>\n",
       "    <tr>\n",
       "      <th>count</th>\n",
       "      <td>600.000000</td>\n",
       "      <td>600.000000</td>\n",
       "    </tr>\n",
       "    <tr>\n",
       "      <th>mean</th>\n",
       "      <td>108747.368333</td>\n",
       "      <td>15.558333</td>\n",
       "    </tr>\n",
       "    <tr>\n",
       "      <th>std</th>\n",
       "      <td>49850.075134</td>\n",
       "      <td>8.842147</td>\n",
       "    </tr>\n",
       "    <tr>\n",
       "      <th>min</th>\n",
       "      <td>25779.000000</td>\n",
       "      <td>0.000000</td>\n",
       "    </tr>\n",
       "    <tr>\n",
       "      <th>25%</th>\n",
       "      <td>66966.750000</td>\n",
       "      <td>8.000000</td>\n",
       "    </tr>\n",
       "    <tr>\n",
       "      <th>50%</th>\n",
       "      <td>106493.500000</td>\n",
       "      <td>15.000000</td>\n",
       "    </tr>\n",
       "    <tr>\n",
       "      <th>75%</th>\n",
       "      <td>150114.250000</td>\n",
       "      <td>24.000000</td>\n",
       "    </tr>\n",
       "    <tr>\n",
       "      <th>max</th>\n",
       "      <td>199778.000000</td>\n",
       "      <td>30.000000</td>\n",
       "    </tr>\n",
       "  </tbody>\n",
       "</table>\n",
       "</div>"
      ],
      "text/plain": [
       "       City.Population  Work.Experience\n",
       "count       600.000000       600.000000\n",
       "mean     108747.368333        15.558333\n",
       "std       49850.075134         8.842147\n",
       "min       25779.000000         0.000000\n",
       "25%       66966.750000         8.000000\n",
       "50%      106493.500000        15.000000\n",
       "75%      150114.250000        24.000000\n",
       "max      199778.000000        30.000000"
      ]
     },
     "execution_count": 19,
     "metadata": {},
     "output_type": "execute_result"
    }
   ],
   "source": [
    "df.describe()"
   ]
  },
  {
   "cell_type": "code",
   "execution_count": 20,
   "id": "05affce6",
   "metadata": {},
   "outputs": [],
   "source": [
    "#Label Encoding \n",
    "# Encode the \"Undergrad,\" \"Marital.Status,\" and \"Urban\" categorical variables\n",
    "from sklearn.preprocessing import LabelEncoder\n",
    "LE = LabelEncoder()"
   ]
  },
  {
   "cell_type": "code",
   "execution_count": 21,
   "id": "c65cd4a4",
   "metadata": {},
   "outputs": [],
   "source": [
    "df[\"Undergrad\"] = LE.fit_transform(df[\"Undergrad\"])"
   ]
  },
  {
   "cell_type": "code",
   "execution_count": 22,
   "id": "c6938e51",
   "metadata": {},
   "outputs": [],
   "source": [
    "df[\"Marital.Status\"] = LE.fit_transform(df[\"Marital.Status\"])"
   ]
  },
  {
   "cell_type": "code",
   "execution_count": 23,
   "id": "deda84f2",
   "metadata": {},
   "outputs": [],
   "source": [
    "df[\"Urban\"] = LE.fit_transform(df[\"Urban\"])"
   ]
  },
  {
   "cell_type": "code",
   "execution_count": 24,
   "id": "27a77b56",
   "metadata": {},
   "outputs": [
    {
     "data": {
      "text/html": [
       "<div>\n",
       "<style scoped>\n",
       "    .dataframe tbody tr th:only-of-type {\n",
       "        vertical-align: middle;\n",
       "    }\n",
       "\n",
       "    .dataframe tbody tr th {\n",
       "        vertical-align: top;\n",
       "    }\n",
       "\n",
       "    .dataframe thead th {\n",
       "        text-align: right;\n",
       "    }\n",
       "</style>\n",
       "<table border=\"1\" class=\"dataframe\">\n",
       "  <thead>\n",
       "    <tr style=\"text-align: right;\">\n",
       "      <th></th>\n",
       "      <th>Undergrad</th>\n",
       "      <th>Marital.Status</th>\n",
       "      <th>City.Population</th>\n",
       "      <th>Work.Experience</th>\n",
       "      <th>Urban</th>\n",
       "    </tr>\n",
       "  </thead>\n",
       "  <tbody>\n",
       "    <tr>\n",
       "      <th>0</th>\n",
       "      <td>0</td>\n",
       "      <td>2</td>\n",
       "      <td>50047</td>\n",
       "      <td>10</td>\n",
       "      <td>1</td>\n",
       "    </tr>\n",
       "    <tr>\n",
       "      <th>1</th>\n",
       "      <td>1</td>\n",
       "      <td>0</td>\n",
       "      <td>134075</td>\n",
       "      <td>18</td>\n",
       "      <td>1</td>\n",
       "    </tr>\n",
       "    <tr>\n",
       "      <th>2</th>\n",
       "      <td>0</td>\n",
       "      <td>1</td>\n",
       "      <td>160205</td>\n",
       "      <td>30</td>\n",
       "      <td>1</td>\n",
       "    </tr>\n",
       "    <tr>\n",
       "      <th>3</th>\n",
       "      <td>1</td>\n",
       "      <td>2</td>\n",
       "      <td>193264</td>\n",
       "      <td>15</td>\n",
       "      <td>1</td>\n",
       "    </tr>\n",
       "    <tr>\n",
       "      <th>4</th>\n",
       "      <td>0</td>\n",
       "      <td>1</td>\n",
       "      <td>27533</td>\n",
       "      <td>28</td>\n",
       "      <td>0</td>\n",
       "    </tr>\n",
       "    <tr>\n",
       "      <th>...</th>\n",
       "      <td>...</td>\n",
       "      <td>...</td>\n",
       "      <td>...</td>\n",
       "      <td>...</td>\n",
       "      <td>...</td>\n",
       "    </tr>\n",
       "    <tr>\n",
       "      <th>595</th>\n",
       "      <td>1</td>\n",
       "      <td>0</td>\n",
       "      <td>39492</td>\n",
       "      <td>7</td>\n",
       "      <td>1</td>\n",
       "    </tr>\n",
       "    <tr>\n",
       "      <th>596</th>\n",
       "      <td>1</td>\n",
       "      <td>0</td>\n",
       "      <td>55369</td>\n",
       "      <td>2</td>\n",
       "      <td>1</td>\n",
       "    </tr>\n",
       "    <tr>\n",
       "      <th>597</th>\n",
       "      <td>0</td>\n",
       "      <td>0</td>\n",
       "      <td>154058</td>\n",
       "      <td>0</td>\n",
       "      <td>1</td>\n",
       "    </tr>\n",
       "    <tr>\n",
       "      <th>598</th>\n",
       "      <td>1</td>\n",
       "      <td>1</td>\n",
       "      <td>180083</td>\n",
       "      <td>17</td>\n",
       "      <td>0</td>\n",
       "    </tr>\n",
       "    <tr>\n",
       "      <th>599</th>\n",
       "      <td>0</td>\n",
       "      <td>0</td>\n",
       "      <td>158137</td>\n",
       "      <td>16</td>\n",
       "      <td>0</td>\n",
       "    </tr>\n",
       "  </tbody>\n",
       "</table>\n",
       "<p>600 rows × 5 columns</p>\n",
       "</div>"
      ],
      "text/plain": [
       "     Undergrad  Marital.Status  City.Population  Work.Experience  Urban\n",
       "0            0               2            50047               10      1\n",
       "1            1               0           134075               18      1\n",
       "2            0               1           160205               30      1\n",
       "3            1               2           193264               15      1\n",
       "4            0               1            27533               28      0\n",
       "..         ...             ...              ...              ...    ...\n",
       "595          1               0            39492                7      1\n",
       "596          1               0            55369                2      1\n",
       "597          0               0           154058                0      1\n",
       "598          1               1           180083               17      0\n",
       "599          0               0           158137               16      0\n",
       "\n",
       "[600 rows x 5 columns]"
      ]
     },
     "execution_count": 24,
     "metadata": {},
     "output_type": "execute_result"
    }
   ],
   "source": [
    "# Split the data into features (X) and the target variable (Y)\n",
    "X = df.drop(\"Taxable.Income\", axis=1)\n",
    "X"
   ]
  },
  {
   "cell_type": "code",
   "execution_count": 25,
   "id": "1b2a387b",
   "metadata": {},
   "outputs": [
    {
     "data": {
      "text/plain": [
       "0      Good\n",
       "1      Good\n",
       "2      Good\n",
       "3      Good\n",
       "4      Good\n",
       "       ... \n",
       "595    Good\n",
       "596    Good\n",
       "597    Good\n",
       "598    Good\n",
       "599    Good\n",
       "Name: Taxable.Income, Length: 600, dtype: object"
      ]
     },
     "execution_count": 25,
     "metadata": {},
     "output_type": "execute_result"
    }
   ],
   "source": [
    "Y = df[\"Taxable.Income\"]\n",
    "Y"
   ]
  },
  {
   "cell_type": "code",
   "execution_count": 26,
   "id": "5ca85ec2",
   "metadata": {},
   "outputs": [],
   "source": [
    "from sklearn.preprocessing import LabelEncoder\n",
    "LE = LabelEncoder()"
   ]
  },
  {
   "cell_type": "code",
   "execution_count": 27,
   "id": "d3aa2699",
   "metadata": {},
   "outputs": [
    {
     "data": {
      "text/plain": [
       "array([0, 0, 0, 0, 0, 0, 0, 0, 0, 0, 1, 0, 1, 0, 0, 0, 1, 0, 0, 1, 0, 1,\n",
       "       0, 0, 0, 0, 0, 0, 1, 0, 0, 0, 0, 0, 1, 0, 1, 0, 1, 0, 0, 0, 0, 0,\n",
       "       0, 0, 0, 0, 1, 0, 0, 0, 0, 1, 0, 1, 0, 0, 1, 0, 0, 1, 0, 0, 0, 0,\n",
       "       0, 0, 1, 0, 0, 0, 0, 0, 0, 0, 0, 0, 0, 1, 0, 0, 0, 0, 0, 1, 0, 1,\n",
       "       0, 1, 0, 0, 0, 1, 1, 0, 1, 0, 1, 0, 0, 0, 0, 0, 0, 0, 1, 0, 0, 0,\n",
       "       1, 0, 0, 0, 1, 0, 0, 0, 1, 0, 0, 1, 1, 1, 0, 0, 1, 0, 0, 0, 0, 0,\n",
       "       0, 0, 0, 1, 0, 1, 0, 0, 1, 0, 0, 1, 0, 0, 0, 0, 0, 0, 0, 0, 1, 1,\n",
       "       1, 0, 0, 0, 1, 0, 0, 0, 0, 1, 0, 0, 0, 0, 1, 0, 0, 1, 1, 0, 0, 0,\n",
       "       0, 0, 0, 1, 0, 1, 1, 0, 0, 0, 0, 0, 1, 0, 0, 0, 0, 0, 1, 0, 1, 0,\n",
       "       0, 1, 0, 0, 0, 0, 1, 1, 0, 1, 0, 0, 0, 0, 0, 0, 0, 0, 0, 0, 0, 1,\n",
       "       0, 0, 0, 0, 0, 0, 0, 0, 1, 0, 1, 0, 1, 1, 0, 0, 0, 1, 0, 0, 0, 1,\n",
       "       0, 0, 0, 0, 0, 1, 1, 0, 0, 0, 0, 0, 0, 0, 0, 0, 0, 1, 0, 0, 0, 0,\n",
       "       0, 1, 0, 1, 0, 0, 0, 0, 0, 0, 0, 0, 0, 0, 1, 0, 1, 0, 0, 0, 1, 0,\n",
       "       0, 0, 1, 0, 0, 0, 1, 0, 0, 0, 0, 0, 0, 0, 0, 1, 0, 0, 0, 0, 0, 0,\n",
       "       0, 0, 0, 0, 0, 0, 0, 1, 0, 0, 0, 0, 0, 0, 0, 0, 0, 0, 1, 1, 0, 1,\n",
       "       0, 1, 0, 1, 0, 0, 0, 1, 1, 1, 0, 0, 0, 0, 0, 0, 1, 1, 0, 1, 0, 0,\n",
       "       1, 0, 1, 0, 1, 1, 0, 0, 0, 0, 1, 1, 0, 0, 0, 1, 0, 0, 0, 0, 0, 0,\n",
       "       0, 0, 0, 0, 0, 1, 0, 0, 0, 0, 0, 0, 0, 0, 0, 0, 0, 0, 1, 0, 0, 0,\n",
       "       0, 0, 1, 0, 0, 0, 0, 0, 0, 0, 0, 0, 0, 0, 0, 0, 0, 0, 0, 0, 0, 0,\n",
       "       0, 0, 0, 0, 0, 0, 0, 0, 0, 0, 1, 0, 0, 0, 0, 1, 1, 0, 0, 1, 1, 1,\n",
       "       0, 0, 0, 1, 1, 0, 1, 0, 0, 0, 0, 0, 0, 0, 0, 0, 0, 1, 1, 1, 0, 0,\n",
       "       1, 0, 0, 1, 0, 0, 0, 0, 0, 1, 0, 0, 0, 0, 0, 0, 0, 0, 0, 0, 0, 1,\n",
       "       0, 0, 0, 0, 0, 0, 0, 1, 0, 1, 0, 0, 0, 0, 0, 0, 0, 0, 0, 0, 0, 0,\n",
       "       1, 0, 0, 1, 0, 0, 0, 0, 0, 0, 0, 1, 0, 0, 0, 0, 0, 0, 1, 0, 1, 0,\n",
       "       0, 0, 0, 0, 0, 1, 0, 0, 0, 0, 0, 0, 1, 1, 0, 0, 1, 0, 0, 0, 0, 0,\n",
       "       0, 0, 0, 0, 0, 0, 0, 1, 0, 0, 0, 0, 0, 0, 0, 0, 0, 1, 0, 0, 0, 0,\n",
       "       0, 0, 0, 1, 0, 0, 0, 0, 0, 0, 0, 0, 0, 0, 0, 0, 0, 0, 0, 1, 0, 0,\n",
       "       0, 0, 0, 0, 0, 0])"
      ]
     },
     "execution_count": 27,
     "metadata": {},
     "output_type": "execute_result"
    }
   ],
   "source": [
    "Y1=LE.fit_transform(df[\"Taxable.Income\"])\n",
    "Y1"
   ]
  },
  {
   "cell_type": "code",
   "execution_count": 28,
   "id": "76cc8f4f",
   "metadata": {},
   "outputs": [],
   "source": [
    "#Data Partition\n",
    "from sklearn.model_selection import train_test_split\n",
    "X_train,X_test,Y_train,Y_test = train_test_split(X,Y1,train_size = 0.75,random_state=123)"
   ]
  },
  {
   "cell_type": "code",
   "execution_count": 29,
   "id": "2592fb15",
   "metadata": {},
   "outputs": [],
   "source": [
    "#Random Forest\n",
    "from sklearn.ensemble import RandomForestClassifier\n",
    "RF = RandomForestClassifier(max_depth=7,\n",
    "                        n_estimators=100,\n",
    "                        max_samples=0.6,\n",
    "                        max_features=0.7,\n",
    "                        random_state=123)   "
   ]
  },
  {
   "cell_type": "code",
   "execution_count": 30,
   "id": "1d71291c",
   "metadata": {},
   "outputs": [
    {
     "data": {
      "text/plain": [
       "RandomForestClassifier(max_depth=7, max_features=0.7, max_samples=0.6,\n",
       "                       random_state=123)"
      ]
     },
     "execution_count": 30,
     "metadata": {},
     "output_type": "execute_result"
    }
   ],
   "source": [
    "RF.fit(X_train,Y_train)"
   ]
  },
  {
   "cell_type": "code",
   "execution_count": 31,
   "id": "0eea161b",
   "metadata": {},
   "outputs": [],
   "source": [
    "Y_pred_train = RF.predict(X_train)"
   ]
  },
  {
   "cell_type": "code",
   "execution_count": 32,
   "id": "6537b213",
   "metadata": {},
   "outputs": [],
   "source": [
    "Y_pred_test = RF.predict(X_test)"
   ]
  },
  {
   "cell_type": "code",
   "execution_count": 33,
   "id": "dd24fcda",
   "metadata": {},
   "outputs": [
    {
     "name": "stdout",
     "output_type": "stream",
     "text": [
      "Training Accuracy Score: 82.444\n",
      "Test Accuracy Score: 79.333\n"
     ]
    }
   ],
   "source": [
    "#Metrices\n",
    "from sklearn.metrics import accuracy_score,classification_report, confusion_matrix\n",
    "ac1 = accuracy_score(Y_train,Y_pred_train)\n",
    "print(\"Training Accuracy Score:\",(ac1*100).round(3))  #Training Accuracy Score: 82.444\n",
    "ac2 = accuracy_score(Y_test,Y_pred_test)\n",
    "print(\"Test Accuracy Score:\",(ac2*100).round(3))  #Test Accuracy Score: 79.333"
   ]
  },
  {
   "cell_type": "code",
   "execution_count": 34,
   "id": "9953357c",
   "metadata": {},
   "outputs": [],
   "source": [
    "# Confusion matrix and classification report\n",
    "confusion = confusion_matrix(Y_test, Y_pred_test)\n",
    "classification_rep = classification_report(Y_test, Y_pred_test)"
   ]
  },
  {
   "cell_type": "code",
   "execution_count": 35,
   "id": "416faf2f",
   "metadata": {},
   "outputs": [
    {
     "name": "stdout",
     "output_type": "stream",
     "text": [
      "Confusion Matrix:\n",
      " [[119   1]\n",
      " [ 30   0]]\n",
      "Classification Report:\n",
      "               precision    recall  f1-score   support\n",
      "\n",
      "           0       0.80      0.99      0.88       120\n",
      "           1       0.00      0.00      0.00        30\n",
      "\n",
      "    accuracy                           0.79       150\n",
      "   macro avg       0.40      0.50      0.44       150\n",
      "weighted avg       0.64      0.79      0.71       150\n",
      "\n"
     ]
    }
   ],
   "source": [
    "print(\"Confusion Matrix:\\n\", confusion)\n",
    "print(\"Classification Report:\\n\", classification_rep)"
   ]
  },
  {
   "cell_type": "code",
   "execution_count": 36,
   "id": "73f0b341",
   "metadata": {},
   "outputs": [],
   "source": [
    "#Grid Search CV\n",
    "# Import necessary libraries\n",
    "from sklearn.model_selection import GridSearchCV"
   ]
  },
  {
   "cell_type": "code",
   "execution_count": 37,
   "id": "64e735df",
   "metadata": {},
   "outputs": [],
   "source": [
    "# Define the parameter grid to search\n",
    "param_grid = {\n",
    "    'n_estimators': [50, 100, 150],\n",
    "    'max_depth': [5, 7, 9],\n",
    "    'max_samples': [0.6, 0.7, 0.8],\n",
    "    'max_features': [0.6, 0.7, 0.8]\n",
    "    }"
   ]
  },
  {
   "cell_type": "code",
   "execution_count": 38,
   "id": "2f25ae18",
   "metadata": {},
   "outputs": [],
   "source": [
    "# Create a Random Forest classifier\n",
    "RF = RandomForestClassifier(random_state=123)"
   ]
  },
  {
   "cell_type": "code",
   "execution_count": 39,
   "id": "5bb895d1",
   "metadata": {},
   "outputs": [],
   "source": [
    "# Create GridSearchCV object\n",
    "grid_search = GridSearchCV(RF, param_grid, cv=5, scoring='accuracy')"
   ]
  },
  {
   "cell_type": "code",
   "execution_count": 40,
   "id": "b75accaf",
   "metadata": {},
   "outputs": [
    {
     "data": {
      "text/plain": [
       "GridSearchCV(cv=5, estimator=RandomForestClassifier(random_state=123),\n",
       "             param_grid={'max_depth': [5, 7, 9],\n",
       "                         'max_features': [0.6, 0.7, 0.8],\n",
       "                         'max_samples': [0.6, 0.7, 0.8],\n",
       "                         'n_estimators': [50, 100, 150]},\n",
       "             scoring='accuracy')"
      ]
     },
     "execution_count": 40,
     "metadata": {},
     "output_type": "execute_result"
    }
   ],
   "source": [
    "# Fit the GridSearchCV object to the data\n",
    "grid_search.fit(X_train, Y_train)"
   ]
  },
  {
   "cell_type": "code",
   "execution_count": 41,
   "id": "55d4190c",
   "metadata": {},
   "outputs": [
    {
     "name": "stdout",
     "output_type": "stream",
     "text": [
      "Best Parameters: {'max_depth': 7, 'max_features': 0.8, 'max_samples': 0.7, 'n_estimators': 50}\n"
     ]
    }
   ],
   "source": [
    "# Print the best parameters found by GridSearchCV\n",
    "print(\"Best Parameters:\", grid_search.best_params_)      #Best Parameters: {'max_depth': 7, 'max_features': 0.8, 'max_samples': 0.7, 'n_estimators': 50}"
   ]
  },
  {
   "cell_type": "code",
   "execution_count": 42,
   "id": "cf6e591b",
   "metadata": {},
   "outputs": [
    {
     "name": "stdout",
     "output_type": "stream",
     "text": [
      "Best Accuracy Score: 0.7955555555555556\n"
     ]
    }
   ],
   "source": [
    "# Print the best accuracy score found by GridSearchCV\n",
    "print(\"Best Accuracy Score:\", grid_search.best_score_)   #Best Accuracy Score: 0.7955555555555556"
   ]
  },
  {
   "cell_type": "code",
   "execution_count": 43,
   "id": "f1f331e5",
   "metadata": {},
   "outputs": [],
   "source": [
    "# Get the best model from the GridSearchCV\n",
    "best_RF = grid_search.best_estimator_"
   ]
  },
  {
   "cell_type": "code",
   "execution_count": 44,
   "id": "86bf278e",
   "metadata": {},
   "outputs": [],
   "source": [
    "# Predict using the best model\n",
    "Y_pred_train = best_RF.predict(X_train)\n",
    "Y_pred_test = best_RF.predict(X_test)"
   ]
  },
  {
   "cell_type": "code",
   "execution_count": 45,
   "id": "46828b0a",
   "metadata": {},
   "outputs": [
    {
     "name": "stdout",
     "output_type": "stream",
     "text": [
      "Training Accuracy Score: 83.111\n",
      "Test Accuracy Score: 80.0\n"
     ]
    }
   ],
   "source": [
    "# Metrics\n",
    "ac1 = accuracy_score(Y_train, Y_pred_train)\n",
    "print(\"Training Accuracy Score:\", (ac1*100).round(3))  #Training Accuracy Score: 83.11\n",
    "ac2 = accuracy_score(Y_test, Y_pred_test)\n",
    "print(\"Test Accuracy Score:\", (ac2*100).round(3))      #Test Accuracy Score: 80.0"
   ]
  },
  {
   "cell_type": "code",
   "execution_count": 46,
   "id": "82fc7d7e",
   "metadata": {},
   "outputs": [
    {
     "data": {
      "image/png": "[encoded data removed]",
      "text/plain": [
       "<Figure size 600x400 with 1 Axes>"
      ]
     },
     "metadata": {},
     "output_type": "display_data"
    }
   ],
   "source": [
    "#when i applied Random Forest classifier , i got Training Accuracy Score: 82 ,Test Accuracy Score: 79%\n",
    "# I gone through hyperparameter tuning process with GridSearchCV, \n",
    "#the algorithm will systematically evaluate different combinations of these hyperparameter values to find the combination\n",
    "#I got Best Parameters: {'max_depth': 7, 'max_features': 0.8, 'max_samples': 0.7, 'n_estimators': 50}\n",
    "#Training Accuracy Score: 0.831\n",
    "#Test Accuracy Score: 80.0  it is good model to be considered\n",
    "\n",
    "# Visualisation\n",
    "# Plot the confusion matrix\n",
    "plt.figure(figsize=(6, 4))\n",
    "sns.heatmap(confusion, annot=True, fmt=\"d\", cmap=\"Blues\", cbar=False)\n",
    "plt.xlabel(\"Predicted\")\n",
    "plt.ylabel(\"Actual\")\n",
    "plt.title(\"Confusion Matrix\")\n",
    "plt.show()"
   ]
  },
  {
   "cell_type": "code",
   "execution_count": null,
   "id": "5e3a5009",
   "metadata": {},
   "outputs": [],
   "source": [
    "# Adjusting hyperparameters or exploring other algorithms may be necessary to enhance the model's performance.\n",
    "# The model achieved a training accuracy of 82.44% and a test accuracy of 79.33%. \n",
    "# The relatively close values suggest that the model is not overfitting.\n",
    "# The confusion matrix shows that the model correctly identified 119 instances of \"Good\" (class 0) but struggled to \n",
    "# identify any instances of \"Risky\" (class 1), resulting in a low recall for class 1.\n",
    "# The classification report indicates that the model's precision for the \"Risky\" class (1) is 0%, \n",
    "# meaning it predicted all instances as \"Good\" (class 0).\n",
    "# The confusion matrix heatmap visually emphasizes the model's difficulty in correctly identifying instances of the \"Risky\" class"
   ]
  }
 ],
 "metadata": {
  "kernelspec": {
   "display_name": "Python 3 (ipykernel)",
   "language": "python",
   "name": "python3"
  },
  "language_info": {
   "codemirror_mode": {
    "name": "ipython",
    "version": 3
   },
   "file_extension": ".py",
   "mimetype": "text/x-python",
   "name": "python",
   "nbconvert_exporter": "python",
   "pygments_lexer": "ipython3",
   "version": "3.9.13"
  }
 },
 "nbformat": 4,
 "nbformat_minor": 5
}
