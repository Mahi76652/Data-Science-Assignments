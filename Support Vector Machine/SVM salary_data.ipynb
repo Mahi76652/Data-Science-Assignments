{
 "cells": [
  {
   "cell_type": "code",
   "execution_count": 23,
   "id": "9ccafe14",
   "metadata": {},
   "outputs": [],
   "source": [
    "#import the data\n",
    "import numpy as np\n",
    "import pandas as pd\n",
    "df1_train = pd.read_csv(\"C:\\\\Users\\\\PC-LENOVO\\\\Desktop\\\\ExcelR Assginments\\\\Support Vector Machine\\\\SalaryData_Train.csv\")"
   ]
  },
  {
   "cell_type": "code",
   "execution_count": 24,
   "id": "ff94c188",
   "metadata": {},
   "outputs": [
    {
     "data": {
      "text/html": [
       "<div>\n",
       "<style scoped>\n",
       "    .dataframe tbody tr th:only-of-type {\n",
       "        vertical-align: middle;\n",
       "    }\n",
       "\n",
       "    .dataframe tbody tr th {\n",
       "        vertical-align: top;\n",
       "    }\n",
       "\n",
       "    .dataframe thead th {\n",
       "        text-align: right;\n",
       "    }\n",
       "</style>\n",
       "<table border=\"1\" class=\"dataframe\">\n",
       "  <thead>\n",
       "    <tr style=\"text-align: right;\">\n",
       "      <th></th>\n",
       "      <th>age</th>\n",
       "      <th>workclass</th>\n",
       "      <th>education</th>\n",
       "      <th>educationno</th>\n",
       "      <th>maritalstatus</th>\n",
       "      <th>occupation</th>\n",
       "      <th>relationship</th>\n",
       "      <th>race</th>\n",
       "      <th>sex</th>\n",
       "      <th>capitalgain</th>\n",
       "      <th>capitalloss</th>\n",
       "      <th>hoursperweek</th>\n",
       "      <th>native</th>\n",
       "      <th>Salary</th>\n",
       "    </tr>\n",
       "  </thead>\n",
       "  <tbody>\n",
       "    <tr>\n",
       "      <th>0</th>\n",
       "      <td>39</td>\n",
       "      <td>State-gov</td>\n",
       "      <td>Bachelors</td>\n",
       "      <td>13</td>\n",
       "      <td>Never-married</td>\n",
       "      <td>Adm-clerical</td>\n",
       "      <td>Not-in-family</td>\n",
       "      <td>White</td>\n",
       "      <td>Male</td>\n",
       "      <td>2174</td>\n",
       "      <td>0</td>\n",
       "      <td>40</td>\n",
       "      <td>United-States</td>\n",
       "      <td>&lt;=50K</td>\n",
       "    </tr>\n",
       "    <tr>\n",
       "      <th>1</th>\n",
       "      <td>50</td>\n",
       "      <td>Self-emp-not-inc</td>\n",
       "      <td>Bachelors</td>\n",
       "      <td>13</td>\n",
       "      <td>Married-civ-spouse</td>\n",
       "      <td>Exec-managerial</td>\n",
       "      <td>Husband</td>\n",
       "      <td>White</td>\n",
       "      <td>Male</td>\n",
       "      <td>0</td>\n",
       "      <td>0</td>\n",
       "      <td>13</td>\n",
       "      <td>United-States</td>\n",
       "      <td>&lt;=50K</td>\n",
       "    </tr>\n",
       "    <tr>\n",
       "      <th>2</th>\n",
       "      <td>38</td>\n",
       "      <td>Private</td>\n",
       "      <td>HS-grad</td>\n",
       "      <td>9</td>\n",
       "      <td>Divorced</td>\n",
       "      <td>Handlers-cleaners</td>\n",
       "      <td>Not-in-family</td>\n",
       "      <td>White</td>\n",
       "      <td>Male</td>\n",
       "      <td>0</td>\n",
       "      <td>0</td>\n",
       "      <td>40</td>\n",
       "      <td>United-States</td>\n",
       "      <td>&lt;=50K</td>\n",
       "    </tr>\n",
       "    <tr>\n",
       "      <th>3</th>\n",
       "      <td>53</td>\n",
       "      <td>Private</td>\n",
       "      <td>11th</td>\n",
       "      <td>7</td>\n",
       "      <td>Married-civ-spouse</td>\n",
       "      <td>Handlers-cleaners</td>\n",
       "      <td>Husband</td>\n",
       "      <td>Black</td>\n",
       "      <td>Male</td>\n",
       "      <td>0</td>\n",
       "      <td>0</td>\n",
       "      <td>40</td>\n",
       "      <td>United-States</td>\n",
       "      <td>&lt;=50K</td>\n",
       "    </tr>\n",
       "    <tr>\n",
       "      <th>4</th>\n",
       "      <td>28</td>\n",
       "      <td>Private</td>\n",
       "      <td>Bachelors</td>\n",
       "      <td>13</td>\n",
       "      <td>Married-civ-spouse</td>\n",
       "      <td>Prof-specialty</td>\n",
       "      <td>Wife</td>\n",
       "      <td>Black</td>\n",
       "      <td>Female</td>\n",
       "      <td>0</td>\n",
       "      <td>0</td>\n",
       "      <td>40</td>\n",
       "      <td>Cuba</td>\n",
       "      <td>&lt;=50K</td>\n",
       "    </tr>\n",
       "  </tbody>\n",
       "</table>\n",
       "</div>"
      ],
      "text/plain": [
       "   age          workclass   education  educationno        maritalstatus  \\\n",
       "0   39          State-gov   Bachelors           13        Never-married   \n",
       "1   50   Self-emp-not-inc   Bachelors           13   Married-civ-spouse   \n",
       "2   38            Private     HS-grad            9             Divorced   \n",
       "3   53            Private        11th            7   Married-civ-spouse   \n",
       "4   28            Private   Bachelors           13   Married-civ-spouse   \n",
       "\n",
       "           occupation    relationship    race      sex  capitalgain  \\\n",
       "0        Adm-clerical   Not-in-family   White     Male         2174   \n",
       "1     Exec-managerial         Husband   White     Male            0   \n",
       "2   Handlers-cleaners   Not-in-family   White     Male            0   \n",
       "3   Handlers-cleaners         Husband   Black     Male            0   \n",
       "4      Prof-specialty            Wife   Black   Female            0   \n",
       "\n",
       "   capitalloss  hoursperweek          native  Salary  \n",
       "0            0            40   United-States   <=50K  \n",
       "1            0            13   United-States   <=50K  \n",
       "2            0            40   United-States   <=50K  \n",
       "3            0            40   United-States   <=50K  \n",
       "4            0            40            Cuba   <=50K  "
      ]
     },
     "execution_count": 24,
     "metadata": {},
     "output_type": "execute_result"
    }
   ],
   "source": [
    "df1_train.head()"
   ]
  },
  {
   "cell_type": "code",
   "execution_count": 25,
   "id": "04fc8d79",
   "metadata": {},
   "outputs": [
    {
     "data": {
      "text/plain": [
       "(30161, 14)"
      ]
     },
     "execution_count": 25,
     "metadata": {},
     "output_type": "execute_result"
    }
   ],
   "source": [
    "df1_train.shape    #(30161, 14)"
   ]
  },
  {
   "cell_type": "code",
   "execution_count": 26,
   "id": "ef8fa645",
   "metadata": {},
   "outputs": [],
   "source": [
    "df2_test = pd.read_csv(\"C:\\\\Users\\\\PC-LENOVO\\\\Desktop\\\\ExcelR Assginments\\\\Support Vector Machine\\\\SalaryData_Test.csv\")"
   ]
  },
  {
   "cell_type": "code",
   "execution_count": 27,
   "id": "9203453c",
   "metadata": {},
   "outputs": [
    {
     "data": {
      "text/html": [
       "<div>\n",
       "<style scoped>\n",
       "    .dataframe tbody tr th:only-of-type {\n",
       "        vertical-align: middle;\n",
       "    }\n",
       "\n",
       "    .dataframe tbody tr th {\n",
       "        vertical-align: top;\n",
       "    }\n",
       "\n",
       "    .dataframe thead th {\n",
       "        text-align: right;\n",
       "    }\n",
       "</style>\n",
       "<table border=\"1\" class=\"dataframe\">\n",
       "  <thead>\n",
       "    <tr style=\"text-align: right;\">\n",
       "      <th></th>\n",
       "      <th>age</th>\n",
       "      <th>workclass</th>\n",
       "      <th>education</th>\n",
       "      <th>educationno</th>\n",
       "      <th>maritalstatus</th>\n",
       "      <th>occupation</th>\n",
       "      <th>relationship</th>\n",
       "      <th>race</th>\n",
       "      <th>sex</th>\n",
       "      <th>capitalgain</th>\n",
       "      <th>capitalloss</th>\n",
       "      <th>hoursperweek</th>\n",
       "      <th>native</th>\n",
       "      <th>Salary</th>\n",
       "    </tr>\n",
       "  </thead>\n",
       "  <tbody>\n",
       "    <tr>\n",
       "      <th>0</th>\n",
       "      <td>25</td>\n",
       "      <td>Private</td>\n",
       "      <td>11th</td>\n",
       "      <td>7</td>\n",
       "      <td>Never-married</td>\n",
       "      <td>Machine-op-inspct</td>\n",
       "      <td>Own-child</td>\n",
       "      <td>Black</td>\n",
       "      <td>Male</td>\n",
       "      <td>0</td>\n",
       "      <td>0</td>\n",
       "      <td>40</td>\n",
       "      <td>United-States</td>\n",
       "      <td>&lt;=50K</td>\n",
       "    </tr>\n",
       "    <tr>\n",
       "      <th>1</th>\n",
       "      <td>38</td>\n",
       "      <td>Private</td>\n",
       "      <td>HS-grad</td>\n",
       "      <td>9</td>\n",
       "      <td>Married-civ-spouse</td>\n",
       "      <td>Farming-fishing</td>\n",
       "      <td>Husband</td>\n",
       "      <td>White</td>\n",
       "      <td>Male</td>\n",
       "      <td>0</td>\n",
       "      <td>0</td>\n",
       "      <td>50</td>\n",
       "      <td>United-States</td>\n",
       "      <td>&lt;=50K</td>\n",
       "    </tr>\n",
       "    <tr>\n",
       "      <th>2</th>\n",
       "      <td>28</td>\n",
       "      <td>Local-gov</td>\n",
       "      <td>Assoc-acdm</td>\n",
       "      <td>12</td>\n",
       "      <td>Married-civ-spouse</td>\n",
       "      <td>Protective-serv</td>\n",
       "      <td>Husband</td>\n",
       "      <td>White</td>\n",
       "      <td>Male</td>\n",
       "      <td>0</td>\n",
       "      <td>0</td>\n",
       "      <td>40</td>\n",
       "      <td>United-States</td>\n",
       "      <td>&gt;50K</td>\n",
       "    </tr>\n",
       "    <tr>\n",
       "      <th>3</th>\n",
       "      <td>44</td>\n",
       "      <td>Private</td>\n",
       "      <td>Some-college</td>\n",
       "      <td>10</td>\n",
       "      <td>Married-civ-spouse</td>\n",
       "      <td>Machine-op-inspct</td>\n",
       "      <td>Husband</td>\n",
       "      <td>Black</td>\n",
       "      <td>Male</td>\n",
       "      <td>7688</td>\n",
       "      <td>0</td>\n",
       "      <td>40</td>\n",
       "      <td>United-States</td>\n",
       "      <td>&gt;50K</td>\n",
       "    </tr>\n",
       "    <tr>\n",
       "      <th>4</th>\n",
       "      <td>34</td>\n",
       "      <td>Private</td>\n",
       "      <td>10th</td>\n",
       "      <td>6</td>\n",
       "      <td>Never-married</td>\n",
       "      <td>Other-service</td>\n",
       "      <td>Not-in-family</td>\n",
       "      <td>White</td>\n",
       "      <td>Male</td>\n",
       "      <td>0</td>\n",
       "      <td>0</td>\n",
       "      <td>30</td>\n",
       "      <td>United-States</td>\n",
       "      <td>&lt;=50K</td>\n",
       "    </tr>\n",
       "  </tbody>\n",
       "</table>\n",
       "</div>"
      ],
      "text/plain": [
       "   age   workclass      education  educationno        maritalstatus  \\\n",
       "0   25     Private           11th            7        Never-married   \n",
       "1   38     Private        HS-grad            9   Married-civ-spouse   \n",
       "2   28   Local-gov     Assoc-acdm           12   Married-civ-spouse   \n",
       "3   44     Private   Some-college           10   Married-civ-spouse   \n",
       "4   34     Private           10th            6        Never-married   \n",
       "\n",
       "           occupation    relationship    race    sex  capitalgain  \\\n",
       "0   Machine-op-inspct       Own-child   Black   Male            0   \n",
       "1     Farming-fishing         Husband   White   Male            0   \n",
       "2     Protective-serv         Husband   White   Male            0   \n",
       "3   Machine-op-inspct         Husband   Black   Male         7688   \n",
       "4       Other-service   Not-in-family   White   Male            0   \n",
       "\n",
       "   capitalloss  hoursperweek          native  Salary  \n",
       "0            0            40   United-States   <=50K  \n",
       "1            0            50   United-States   <=50K  \n",
       "2            0            40   United-States    >50K  \n",
       "3            0            40   United-States    >50K  \n",
       "4            0            30   United-States   <=50K  "
      ]
     },
     "execution_count": 27,
     "metadata": {},
     "output_type": "execute_result"
    }
   ],
   "source": [
    "df2_test.head()"
   ]
  },
  {
   "cell_type": "code",
   "execution_count": 28,
   "id": "4a5f70e9",
   "metadata": {},
   "outputs": [
    {
     "data": {
      "text/plain": [
       "(15060, 14)"
      ]
     },
     "execution_count": 28,
     "metadata": {},
     "output_type": "execute_result"
    }
   ],
   "source": [
    "df2_test.shape    #(15060, 14)"
   ]
  },
  {
   "cell_type": "code",
   "execution_count": 30,
   "id": "da22e00d",
   "metadata": {},
   "outputs": [
    {
     "name": "stdout",
     "output_type": "stream",
     "text": [
      "<class 'pandas.core.frame.DataFrame'>\n",
      "RangeIndex: 30161 entries, 0 to 30160\n",
      "Data columns (total 14 columns):\n",
      " #   Column         Non-Null Count  Dtype \n",
      "---  ------         --------------  ----- \n",
      " 0   age            30161 non-null  int64 \n",
      " 1   workclass      30161 non-null  object\n",
      " 2   education      30161 non-null  object\n",
      " 3   educationno    30161 non-null  int64 \n",
      " 4   maritalstatus  30161 non-null  object\n",
      " 5   occupation     30161 non-null  object\n",
      " 6   relationship   30161 non-null  object\n",
      " 7   race           30161 non-null  object\n",
      " 8   sex            30161 non-null  object\n",
      " 9   capitalgain    30161 non-null  int64 \n",
      " 10  capitalloss    30161 non-null  int64 \n",
      " 11  hoursperweek   30161 non-null  int64 \n",
      " 12  native         30161 non-null  object\n",
      " 13  Salary         30161 non-null  object\n",
      "dtypes: int64(5), object(9)\n",
      "memory usage: 3.2+ MB\n"
     ]
    }
   ],
   "source": [
    "df1_train.info()   "
   ]
  },
  {
   "cell_type": "code",
   "execution_count": 31,
   "id": "c5a4aafb",
   "metadata": {},
   "outputs": [
    {
     "name": "stdout",
     "output_type": "stream",
     "text": [
      "<class 'pandas.core.frame.DataFrame'>\n",
      "RangeIndex: 15060 entries, 0 to 15059\n",
      "Data columns (total 14 columns):\n",
      " #   Column         Non-Null Count  Dtype \n",
      "---  ------         --------------  ----- \n",
      " 0   age            15060 non-null  int64 \n",
      " 1   workclass      15060 non-null  object\n",
      " 2   education      15060 non-null  object\n",
      " 3   educationno    15060 non-null  int64 \n",
      " 4   maritalstatus  15060 non-null  object\n",
      " 5   occupation     15060 non-null  object\n",
      " 6   relationship   15060 non-null  object\n",
      " 7   race           15060 non-null  object\n",
      " 8   sex            15060 non-null  object\n",
      " 9   capitalgain    15060 non-null  int64 \n",
      " 10  capitalloss    15060 non-null  int64 \n",
      " 11  hoursperweek   15060 non-null  int64 \n",
      " 12  native         15060 non-null  object\n",
      " 13  Salary         15060 non-null  object\n",
      "dtypes: int64(5), object(9)\n",
      "memory usage: 1.6+ MB\n"
     ]
    }
   ],
   "source": [
    "df2_test.info()"
   ]
  },
  {
   "cell_type": "code",
   "execution_count": 32,
   "id": "7a1ade56",
   "metadata": {},
   "outputs": [],
   "source": [
    "#EDA----->EXPLORATORY DATA ANALYSIS on Train Data\n",
    "#BOXPLOT AND OUTLIERS CALCULATION #\n",
    "import seaborn as sns\n",
    "import matplotlib.pyplot as plt"
   ]
  },
  {
   "cell_type": "code",
   "execution_count": 33,
   "id": "2621e3db",
   "metadata": {},
   "outputs": [
    {
     "data": {
      "text/html": [
       "<div>\n",
       "<style scoped>\n",
       "    .dataframe tbody tr th:only-of-type {\n",
       "        vertical-align: middle;\n",
       "    }\n",
       "\n",
       "    .dataframe tbody tr th {\n",
       "        vertical-align: top;\n",
       "    }\n",
       "\n",
       "    .dataframe thead th {\n",
       "        text-align: right;\n",
       "    }\n",
       "</style>\n",
       "<table border=\"1\" class=\"dataframe\">\n",
       "  <thead>\n",
       "    <tr style=\"text-align: right;\">\n",
       "      <th></th>\n",
       "      <th>age</th>\n",
       "      <th>educationno</th>\n",
       "      <th>capitalgain</th>\n",
       "      <th>capitalloss</th>\n",
       "      <th>hoursperweek</th>\n",
       "    </tr>\n",
       "  </thead>\n",
       "  <tbody>\n",
       "    <tr>\n",
       "      <th>0</th>\n",
       "      <td>39</td>\n",
       "      <td>13</td>\n",
       "      <td>2174</td>\n",
       "      <td>0</td>\n",
       "      <td>40</td>\n",
       "    </tr>\n",
       "    <tr>\n",
       "      <th>1</th>\n",
       "      <td>50</td>\n",
       "      <td>13</td>\n",
       "      <td>0</td>\n",
       "      <td>0</td>\n",
       "      <td>13</td>\n",
       "    </tr>\n",
       "    <tr>\n",
       "      <th>2</th>\n",
       "      <td>38</td>\n",
       "      <td>9</td>\n",
       "      <td>0</td>\n",
       "      <td>0</td>\n",
       "      <td>40</td>\n",
       "    </tr>\n",
       "    <tr>\n",
       "      <th>3</th>\n",
       "      <td>53</td>\n",
       "      <td>7</td>\n",
       "      <td>0</td>\n",
       "      <td>0</td>\n",
       "      <td>40</td>\n",
       "    </tr>\n",
       "    <tr>\n",
       "      <th>4</th>\n",
       "      <td>28</td>\n",
       "      <td>13</td>\n",
       "      <td>0</td>\n",
       "      <td>0</td>\n",
       "      <td>40</td>\n",
       "    </tr>\n",
       "    <tr>\n",
       "      <th>...</th>\n",
       "      <td>...</td>\n",
       "      <td>...</td>\n",
       "      <td>...</td>\n",
       "      <td>...</td>\n",
       "      <td>...</td>\n",
       "    </tr>\n",
       "    <tr>\n",
       "      <th>30156</th>\n",
       "      <td>27</td>\n",
       "      <td>12</td>\n",
       "      <td>0</td>\n",
       "      <td>0</td>\n",
       "      <td>38</td>\n",
       "    </tr>\n",
       "    <tr>\n",
       "      <th>30157</th>\n",
       "      <td>40</td>\n",
       "      <td>9</td>\n",
       "      <td>0</td>\n",
       "      <td>0</td>\n",
       "      <td>40</td>\n",
       "    </tr>\n",
       "    <tr>\n",
       "      <th>30158</th>\n",
       "      <td>58</td>\n",
       "      <td>9</td>\n",
       "      <td>0</td>\n",
       "      <td>0</td>\n",
       "      <td>40</td>\n",
       "    </tr>\n",
       "    <tr>\n",
       "      <th>30159</th>\n",
       "      <td>22</td>\n",
       "      <td>9</td>\n",
       "      <td>0</td>\n",
       "      <td>0</td>\n",
       "      <td>20</td>\n",
       "    </tr>\n",
       "    <tr>\n",
       "      <th>30160</th>\n",
       "      <td>52</td>\n",
       "      <td>9</td>\n",
       "      <td>15024</td>\n",
       "      <td>0</td>\n",
       "      <td>40</td>\n",
       "    </tr>\n",
       "  </tbody>\n",
       "</table>\n",
       "<p>30161 rows × 5 columns</p>\n",
       "</div>"
      ],
      "text/plain": [
       "       age  educationno  capitalgain  capitalloss  hoursperweek\n",
       "0       39           13         2174            0            40\n",
       "1       50           13            0            0            13\n",
       "2       38            9            0            0            40\n",
       "3       53            7            0            0            40\n",
       "4       28           13            0            0            40\n",
       "...    ...          ...          ...          ...           ...\n",
       "30156   27           12            0            0            38\n",
       "30157   40            9            0            0            40\n",
       "30158   58            9            0            0            40\n",
       "30159   22            9            0            0            20\n",
       "30160   52            9        15024            0            40\n",
       "\n",
       "[30161 rows x 5 columns]"
      ]
     },
     "execution_count": 33,
     "metadata": {},
     "output_type": "execute_result"
    }
   ],
   "source": [
    "data = df1_train[df1_train.columns[[0,3,9,10,11]]]\n",
    "data"
   ]
  },
  {
   "cell_type": "code",
   "execution_count": 34,
   "id": "b7b6a2a9",
   "metadata": {},
   "outputs": [
    {
     "data": {
      "image/png": "[encoded data removed]",
      "text/plain": [
       "<Figure size 800x600 with 1 Axes>"
      ]
     },
     "metadata": {},
     "output_type": "display_data"
    },
    {
     "data": {
      "image/png": "[encoded data removed]",
      "text/plain": [
       "<Figure size 800x600 with 1 Axes>"
      ]
     },
     "metadata": {},
     "output_type": "display_data"
    },
    {
     "data": {
      "image/png": "[encoded data removed]",
      "text/plain": [
       "<Figure size 800x600 with 1 Axes>"
      ]
     },
     "metadata": {},
     "output_type": "display_data"
    },
    {
     "data": {
      "image/png": "[encoded data removed]",
      "text/plain": [
       "<Figure size 800x600 with 1 Axes>"
      ]
     },
     "metadata": {},
     "output_type": "display_data"
    },
    {
     "data": {
      "image/png": "[encoded data removed]",
      "text/plain": [
       "<Figure size 800x600 with 1 Axes>"
      ]
     },
     "metadata": {},
     "output_type": "display_data"
    }
   ],
   "source": [
    "for column in data:\n",
    "    plt.figure(figsize=(8, 6))  \n",
    "    sns.boxplot(x=df1_train[column])\n",
    "    plt.title(\" Horizontal Box Plot of column\")\n",
    "    plt.show()"
   ]
  },
  {
   "cell_type": "code",
   "execution_count": 36,
   "id": "6d9980f7",
   "metadata": {},
   "outputs": [],
   "source": [
    "df1_cont = df1_train[df1_train.columns[[0,3,9,10,11]]]"
   ]
  },
  {
   "cell_type": "code",
   "execution_count": 37,
   "id": "307ec26e",
   "metadata": {},
   "outputs": [
    {
     "data": {
      "text/plain": [
       "(30161, 5)"
      ]
     },
     "execution_count": 37,
     "metadata": {},
     "output_type": "execute_result"
    }
   ],
   "source": [
    "df1_cont.shape  #(30161, 5)"
   ]
  },
  {
   "cell_type": "code",
   "execution_count": 38,
   "id": "b4cb9a56",
   "metadata": {},
   "outputs": [],
   "source": [
    "from scipy import stats"
   ]
  },
  {
   "cell_type": "code",
   "execution_count": 39,
   "id": "96b58c13",
   "metadata": {},
   "outputs": [],
   "source": [
    "# Define a threshold for Z-score (e.g., Z-score greater than 3 or less than -3 indicates an outlier)\n",
    "z_threshold = 3"
   ]
  },
  {
   "cell_type": "code",
   "execution_count": 40,
   "id": "084407b3",
   "metadata": {},
   "outputs": [],
   "source": [
    "# Calculate the Z-scores for each column in the DataFrame\n",
    "import numpy as np\n",
    "z_scores = np.abs(stats.zscore(df1_cont))"
   ]
  },
  {
   "cell_type": "code",
   "execution_count": 41,
   "id": "0dadc2eb",
   "metadata": {},
   "outputs": [],
   "source": [
    "# Create a mask to identify rows with outliers\n",
    "outlier_mask = (z_scores > z_threshold).any(axis=1)"
   ]
  },
  {
   "cell_type": "code",
   "execution_count": 42,
   "id": "aa1807d9",
   "metadata": {},
   "outputs": [],
   "source": [
    "# Remove rows with outliers from the DataFrame\n",
    "df1_train = df1_train[~outlier_mask]"
   ]
  },
  {
   "cell_type": "code",
   "execution_count": 43,
   "id": "18acf1f2",
   "metadata": {},
   "outputs": [
    {
     "data": {
      "text/plain": [
       "(27920, 14)"
      ]
     },
     "execution_count": 43,
     "metadata": {},
     "output_type": "execute_result"
    }
   ],
   "source": [
    "df1_train.shape  #(26752, 14)"
   ]
  },
  {
   "cell_type": "code",
   "execution_count": 44,
   "id": "39fbe535",
   "metadata": {},
   "outputs": [
    {
     "name": "stdout",
     "output_type": "stream",
     "text": [
      "<class 'pandas.core.frame.DataFrame'>\n",
      "Int64Index: 27920 entries, 0 to 30160\n",
      "Data columns (total 14 columns):\n",
      " #   Column         Non-Null Count  Dtype \n",
      "---  ------         --------------  ----- \n",
      " 0   age            27920 non-null  int64 \n",
      " 1   workclass      27920 non-null  object\n",
      " 2   education      27920 non-null  object\n",
      " 3   educationno    27920 non-null  int64 \n",
      " 4   maritalstatus  27920 non-null  object\n",
      " 5   occupation     27920 non-null  object\n",
      " 6   relationship   27920 non-null  object\n",
      " 7   race           27920 non-null  object\n",
      " 8   sex            27920 non-null  object\n",
      " 9   capitalgain    27920 non-null  int64 \n",
      " 10  capitalloss    27920 non-null  int64 \n",
      " 11  hoursperweek   27920 non-null  int64 \n",
      " 12  native         27920 non-null  object\n",
      " 13  Salary         27920 non-null  object\n",
      "dtypes: int64(5), object(9)\n",
      "memory usage: 3.2+ MB\n"
     ]
    }
   ],
   "source": [
    "df1_train.info()"
   ]
  },
  {
   "cell_type": "code",
   "execution_count": 45,
   "id": "26cd8da1",
   "metadata": {},
   "outputs": [],
   "source": [
    "#EDA----->EXPLORATORY DATA ANALYSIS on the Test Data\n",
    "#BOXPLOT AND OUTLIERS CALCULATION #\n",
    "import seaborn as sns\n",
    "import matplotlib.pyplot as plt"
   ]
  },
  {
   "cell_type": "code",
   "execution_count": 46,
   "id": "30a8417e",
   "metadata": {},
   "outputs": [
    {
     "data": {
      "text/html": [
       "<div>\n",
       "<style scoped>\n",
       "    .dataframe tbody tr th:only-of-type {\n",
       "        vertical-align: middle;\n",
       "    }\n",
       "\n",
       "    .dataframe tbody tr th {\n",
       "        vertical-align: top;\n",
       "    }\n",
       "\n",
       "    .dataframe thead th {\n",
       "        text-align: right;\n",
       "    }\n",
       "</style>\n",
       "<table border=\"1\" class=\"dataframe\">\n",
       "  <thead>\n",
       "    <tr style=\"text-align: right;\">\n",
       "      <th></th>\n",
       "      <th>age</th>\n",
       "      <th>educationno</th>\n",
       "      <th>capitalgain</th>\n",
       "      <th>capitalloss</th>\n",
       "      <th>hoursperweek</th>\n",
       "    </tr>\n",
       "  </thead>\n",
       "  <tbody>\n",
       "    <tr>\n",
       "      <th>0</th>\n",
       "      <td>25</td>\n",
       "      <td>7</td>\n",
       "      <td>0</td>\n",
       "      <td>0</td>\n",
       "      <td>40</td>\n",
       "    </tr>\n",
       "    <tr>\n",
       "      <th>1</th>\n",
       "      <td>38</td>\n",
       "      <td>9</td>\n",
       "      <td>0</td>\n",
       "      <td>0</td>\n",
       "      <td>50</td>\n",
       "    </tr>\n",
       "    <tr>\n",
       "      <th>2</th>\n",
       "      <td>28</td>\n",
       "      <td>12</td>\n",
       "      <td>0</td>\n",
       "      <td>0</td>\n",
       "      <td>40</td>\n",
       "    </tr>\n",
       "    <tr>\n",
       "      <th>3</th>\n",
       "      <td>44</td>\n",
       "      <td>10</td>\n",
       "      <td>7688</td>\n",
       "      <td>0</td>\n",
       "      <td>40</td>\n",
       "    </tr>\n",
       "    <tr>\n",
       "      <th>4</th>\n",
       "      <td>34</td>\n",
       "      <td>6</td>\n",
       "      <td>0</td>\n",
       "      <td>0</td>\n",
       "      <td>30</td>\n",
       "    </tr>\n",
       "    <tr>\n",
       "      <th>...</th>\n",
       "      <td>...</td>\n",
       "      <td>...</td>\n",
       "      <td>...</td>\n",
       "      <td>...</td>\n",
       "      <td>...</td>\n",
       "    </tr>\n",
       "    <tr>\n",
       "      <th>15055</th>\n",
       "      <td>33</td>\n",
       "      <td>13</td>\n",
       "      <td>0</td>\n",
       "      <td>0</td>\n",
       "      <td>40</td>\n",
       "    </tr>\n",
       "    <tr>\n",
       "      <th>15056</th>\n",
       "      <td>39</td>\n",
       "      <td>13</td>\n",
       "      <td>0</td>\n",
       "      <td>0</td>\n",
       "      <td>36</td>\n",
       "    </tr>\n",
       "    <tr>\n",
       "      <th>15057</th>\n",
       "      <td>38</td>\n",
       "      <td>13</td>\n",
       "      <td>0</td>\n",
       "      <td>0</td>\n",
       "      <td>50</td>\n",
       "    </tr>\n",
       "    <tr>\n",
       "      <th>15058</th>\n",
       "      <td>44</td>\n",
       "      <td>13</td>\n",
       "      <td>5455</td>\n",
       "      <td>0</td>\n",
       "      <td>40</td>\n",
       "    </tr>\n",
       "    <tr>\n",
       "      <th>15059</th>\n",
       "      <td>35</td>\n",
       "      <td>13</td>\n",
       "      <td>0</td>\n",
       "      <td>0</td>\n",
       "      <td>60</td>\n",
       "    </tr>\n",
       "  </tbody>\n",
       "</table>\n",
       "<p>15060 rows × 5 columns</p>\n",
       "</div>"
      ],
      "text/plain": [
       "       age  educationno  capitalgain  capitalloss  hoursperweek\n",
       "0       25            7            0            0            40\n",
       "1       38            9            0            0            50\n",
       "2       28           12            0            0            40\n",
       "3       44           10         7688            0            40\n",
       "4       34            6            0            0            30\n",
       "...    ...          ...          ...          ...           ...\n",
       "15055   33           13            0            0            40\n",
       "15056   39           13            0            0            36\n",
       "15057   38           13            0            0            50\n",
       "15058   44           13         5455            0            40\n",
       "15059   35           13            0            0            60\n",
       "\n",
       "[15060 rows x 5 columns]"
      ]
     },
     "execution_count": 46,
     "metadata": {},
     "output_type": "execute_result"
    }
   ],
   "source": [
    "data = df2_test[df2_test.columns[[0,3,9,10,11]]]\n",
    "data"
   ]
  },
  {
   "cell_type": "code",
   "execution_count": 47,
   "id": "af9c0610",
   "metadata": {},
   "outputs": [
    {
     "data": {
      "image/png": "[encoded data removed]",
      "text/plain": [
       "<Figure size 800x600 with 1 Axes>"
      ]
     },
     "metadata": {},
     "output_type": "display_data"
    },
    {
     "data": {
      "image/png": "[encoded data removed]",
      "text/plain": [
       "<Figure size 800x600 with 1 Axes>"
      ]
     },
     "metadata": {},
     "output_type": "display_data"
    },
    {
     "data": {
      "image/png": "[encoded data removed]",
      "text/plain": [
       "<Figure size 800x600 with 1 Axes>"
      ]
     },
     "metadata": {},
     "output_type": "display_data"
    },
    {
     "data": {
      "image/png": "[encoded data removed]",
      "text/plain": [
       "<Figure size 800x600 with 1 Axes>"
      ]
     },
     "metadata": {},
     "output_type": "display_data"
    },
    {
     "data": {
      "image/png": "[encoded data removed]",
      "text/plain": [
       "<Figure size 800x600 with 1 Axes>"
      ]
     },
     "metadata": {},
     "output_type": "display_data"
    }
   ],
   "source": [
    "for column in data:\n",
    "    plt.figure(figsize=(8, 6))  \n",
    "    sns.boxplot(x=df2_test[column])\n",
    "    plt.title(\" Horizontal Box Plot of column\")\n",
    "    plt.show()"
   ]
  },
  {
   "cell_type": "code",
   "execution_count": 48,
   "id": "61914be3",
   "metadata": {},
   "outputs": [],
   "source": [
    "df2_cont = df2_test[df2_test.columns[[0,3,9,10,11]]]"
   ]
  },
  {
   "cell_type": "code",
   "execution_count": 49,
   "id": "eb83db84",
   "metadata": {},
   "outputs": [
    {
     "data": {
      "text/plain": [
       "(15060, 5)"
      ]
     },
     "execution_count": 49,
     "metadata": {},
     "output_type": "execute_result"
    }
   ],
   "source": [
    "df2_cont.shape  #(15060, 5)"
   ]
  },
  {
   "cell_type": "code",
   "execution_count": 50,
   "id": "bbd4d5d4",
   "metadata": {},
   "outputs": [],
   "source": [
    "from scipy import stats"
   ]
  },
  {
   "cell_type": "code",
   "execution_count": 51,
   "id": "504544f5",
   "metadata": {},
   "outputs": [],
   "source": [
    "# Define a threshold for Z-score (e.g., Z-score greater than 3 or less than -3 indicates an outlier)\n",
    "z_threshold = 3"
   ]
  },
  {
   "cell_type": "code",
   "execution_count": 53,
   "id": "26f31722",
   "metadata": {},
   "outputs": [],
   "source": [
    "# Calculate the Z-scores for each column in the DataFrame\n",
    "import numpy as np\n",
    "z_scores = np.abs(stats.zscore(df2_cont))"
   ]
  },
  {
   "cell_type": "code",
   "execution_count": 54,
   "id": "f020aeab",
   "metadata": {},
   "outputs": [],
   "source": [
    "# Create a mask to identify rows with outliers\n",
    "outlier_mask = (z_scores > z_threshold).any(axis=1)"
   ]
  },
  {
   "cell_type": "code",
   "execution_count": 55,
   "id": "97efc4fa",
   "metadata": {},
   "outputs": [
    {
     "data": {
      "text/plain": [
       "(13903, 14)"
      ]
     },
     "execution_count": 55,
     "metadata": {},
     "output_type": "execute_result"
    }
   ],
   "source": [
    "# Remove rows with outliers from the DataFrame\n",
    "df2_test = df2_test[~outlier_mask]\n",
    "df2_test.shape  #(13903, 14)"
   ]
  },
  {
   "cell_type": "code",
   "execution_count": 56,
   "id": "435dffeb",
   "metadata": {},
   "outputs": [],
   "source": [
    "# Assuming your target variable column is named 'target' in both DataFrames\n",
    "X_train = df1_train.drop(columns=['Salary'])  # Features for training data"
   ]
  },
  {
   "cell_type": "code",
   "execution_count": 57,
   "id": "639205b3",
   "metadata": {},
   "outputs": [],
   "source": [
    "Y_train = df1_train['Salary']               # Target variable for training data"
   ]
  },
  {
   "cell_type": "code",
   "execution_count": 58,
   "id": "9321af39",
   "metadata": {},
   "outputs": [],
   "source": [
    "X_test = df2_test.drop(columns=['Salary'])    # Features for testing data"
   ]
  },
  {
   "cell_type": "code",
   "execution_count": 59,
   "id": "21d2d10c",
   "metadata": {},
   "outputs": [],
   "source": [
    "Y_test = df2_test['Salary']                   # Target variable for testing data"
   ]
  },
  {
   "cell_type": "code",
   "execution_count": 60,
   "id": "578d4b61",
   "metadata": {},
   "outputs": [],
   "source": [
    "# Apply label encoding to categorical columns\n",
    "categorical_columns = ['workclass', 'education', 'maritalstatus', 'occupation', 'relationship', 'race', 'sex', 'native']"
   ]
  },
  {
   "cell_type": "code",
   "execution_count": 61,
   "id": "45652009",
   "metadata": {},
   "outputs": [],
   "source": [
    "from sklearn.preprocessing import LabelEncoder\n",
    "LE = LabelEncoder()"
   ]
  },
  {
   "cell_type": "code",
   "execution_count": 62,
   "id": "04baca15",
   "metadata": {},
   "outputs": [],
   "source": [
    "for column in categorical_columns:\n",
    "    X_train[column] = LE.fit_transform(X_train[column])\n",
    "    X_test[column] = LE.transform(X_test[column]) "
   ]
  },
  {
   "cell_type": "code",
   "execution_count": 63,
   "id": "1cb534bd",
   "metadata": {},
   "outputs": [],
   "source": [
    "# Standardize the data\n",
    "from sklearn.preprocessing import StandardScaler\n",
    "SS = StandardScaler()"
   ]
  },
  {
   "cell_type": "code",
   "execution_count": 64,
   "id": "7ba02f04",
   "metadata": {},
   "outputs": [],
   "source": [
    "X_train = SS.fit_transform(X_train)"
   ]
  },
  {
   "cell_type": "code",
   "execution_count": 65,
   "id": "5b4934c6",
   "metadata": {},
   "outputs": [],
   "source": [
    "X_test = SS.transform(X_test)"
   ]
  },
  {
   "cell_type": "code",
   "execution_count": 66,
   "id": "9ce338c9",
   "metadata": {},
   "outputs": [],
   "source": [
    "#This code ensures that both training and testing data are label-encoded and \n",
    "#standardized correctly before fitting the SVM model.\n",
    "# Create and train your SVM model\n",
    "#Linear Function\n",
    "from sklearn.svm import SVC         #Linear\n",
    "svc = SVC(C=1.0, kernel='linear')"
   ]
  },
  {
   "cell_type": "code",
   "execution_count": 67,
   "id": "2da1f172",
   "metadata": {},
   "outputs": [
    {
     "data": {
      "text/plain": [
       "SVC(kernel='linear')"
      ]
     },
     "execution_count": 67,
     "metadata": {},
     "output_type": "execute_result"
    }
   ],
   "source": [
    "svc.fit(X_train, Y_train)"
   ]
  },
  {
   "cell_type": "code",
   "execution_count": 68,
   "id": "cc606edf",
   "metadata": {},
   "outputs": [],
   "source": [
    "Y_pred_train = svc.predict(X_train)"
   ]
  },
  {
   "cell_type": "code",
   "execution_count": 69,
   "id": "4389f348",
   "metadata": {},
   "outputs": [],
   "source": [
    "Y_pred_test = svc.predict(X_test)"
   ]
  },
  {
   "cell_type": "code",
   "execution_count": 70,
   "id": "3e85f4f1",
   "metadata": {},
   "outputs": [],
   "source": [
    "from sklearn.metrics import accuracy_score\n",
    "ac1 = accuracy_score(Y_train,Y_pred_train)"
   ]
  },
  {
   "cell_type": "code",
   "execution_count": 71,
   "id": "4814bbce",
   "metadata": {},
   "outputs": [
    {
     "name": "stdout",
     "output_type": "stream",
     "text": [
      "Training accuracy score: 0.806\n"
     ]
    }
   ],
   "source": [
    "print(\"Training accuracy score:\", ac1.round(3))    #Train accuracy score: 0.806"
   ]
  },
  {
   "cell_type": "code",
   "execution_count": 72,
   "id": "af3c7002",
   "metadata": {},
   "outputs": [
    {
     "name": "stdout",
     "output_type": "stream",
     "text": [
      "Testing accuracy score: 0.805\n"
     ]
    }
   ],
   "source": [
    "ac2 = accuracy_score(Y_test,Y_pred_test)\n",
    "print(\"Testing accuracy score:\", ac2.round(3))     #Test accuracy score: 0.805"
   ]
  },
  {
   "cell_type": "code",
   "execution_count": 73,
   "id": "5ed9cd0b",
   "metadata": {},
   "outputs": [],
   "source": [
    "\"\"\"when we have two distinct datasets,one for training and one for testing,\n",
    " the validation approach involving cross validation\n",
    " may not be directly applicable.The purpose of cross validation is to utilize the \n",
    " training data for model validationa and as \n",
    " a tuning parameter.so we will split the train data into train set and validation set,\n",
    " fit our model on the train data and evaluate the model performance using the validation \n",
    " data ,once we have selected the best performing model we will evaluate on the independent test data set \n",
    " to estimate the models performance on unseen data. \"\"\"\n",
    "\n",
    "# Assuming we have X_train, Y_train, X_test, Y_test\n",
    "# Step 1: Split the training data into train and validation sets\n",
    "from sklearn.model_selection import train_test_split\n",
    "X_train, X_val, Y_train, Y_val = train_test_split(X_train, Y_train, train_size=0.75, random_state=42)"
   ]
  },
  {
   "cell_type": "code",
   "execution_count": 74,
   "id": "54dba413",
   "metadata": {},
   "outputs": [],
   "source": [
    "# Step 2: Fit our model on the training set and evaluating  on the validation set\n",
    "from sklearn.svm import SVC\n",
    "svc = SVC(C=1.0, kernel='linear') # linear function"
   ]
  },
  {
   "cell_type": "code",
   "execution_count": 75,
   "id": "1524da1c",
   "metadata": {},
   "outputs": [
    {
     "data": {
      "text/plain": [
       "SVC(kernel='linear')"
      ]
     },
     "execution_count": 75,
     "metadata": {},
     "output_type": "execute_result"
    }
   ],
   "source": [
    "svc.fit(X_train, Y_train)"
   ]
  },
  {
   "cell_type": "code",
   "execution_count": 76,
   "id": "49cd65e3",
   "metadata": {},
   "outputs": [],
   "source": [
    "Y_pred_train = svc.predict(X_train)\n",
    "Y_pred_val = svc.predict(X_val)"
   ]
  },
  {
   "cell_type": "code",
   "execution_count": 77,
   "id": "970b906d",
   "metadata": {},
   "outputs": [
    {
     "name": "stdout",
     "output_type": "stream",
     "text": [
      "Validation accuracy score: 0.805\n"
     ]
    }
   ],
   "source": [
    "# Step 3: Evaluating  the performance on the validation set\n",
    "from sklearn.metrics import accuracy_score\n",
    "ac_val = accuracy_score(Y_val, Y_pred_val)\n",
    "print(\"Validation accuracy score:\", ac_val.round(3))   #Validation accuracy score: 0.805"
   ]
  },
  {
   "cell_type": "code",
   "execution_count": 78,
   "id": "d0bf9315",
   "metadata": {},
   "outputs": [
    {
     "name": "stdout",
     "output_type": "stream",
     "text": [
      "Test accuracy score: 0.806\n"
     ]
    }
   ],
   "source": [
    "# Step 4: Once we have selected the best model,  we evaluate it on the independent test dataset\n",
    "Y_pred_test = svc.predict(X_test)\n",
    "ac_test = accuracy_score(Y_test, Y_pred_test)\n",
    "print(\"Test accuracy score:\", ac_test.round(3))      #Test accuracy score: 0.806"
   ]
  },
  {
   "cell_type": "code",
   "execution_count": 79,
   "id": "0011c431",
   "metadata": {},
   "outputs": [],
   "source": [
    "#Validation accuracy score: 0.805\n",
    "#Test accuracy score: 0.806\n",
    "\n",
    "##Polynomial function\n",
    "#SVM\n",
    "from sklearn.svm import SVC\n",
    "svc =SVC(degree=3,kernel='poly')  #Polynomial function"
   ]
  },
  {
   "cell_type": "code",
   "execution_count": 80,
   "id": "e137d1cc",
   "metadata": {},
   "outputs": [
    {
     "data": {
      "text/plain": [
       "SVC(kernel='poly')"
      ]
     },
     "execution_count": 80,
     "metadata": {},
     "output_type": "execute_result"
    }
   ],
   "source": [
    "svc.fit(X_train,Y_train)"
   ]
  },
  {
   "cell_type": "code",
   "execution_count": 81,
   "id": "29dce514",
   "metadata": {},
   "outputs": [],
   "source": [
    "Y_pred_train = svc.predict(X_train)\n",
    "Y_pred_test = svc.predict(X_test)"
   ]
  },
  {
   "cell_type": "code",
   "execution_count": 82,
   "id": "5300a8a2",
   "metadata": {},
   "outputs": [
    {
     "name": "stdout",
     "output_type": "stream",
     "text": [
      "training accuracy score: 84.733\n",
      "testing accuracy score: 84.277\n"
     ]
    }
   ],
   "source": [
    "#Metrics\n",
    "from sklearn.metrics import accuracy_score\n",
    "ac1 = accuracy_score(Y_train,Y_pred_train)\n",
    "print(\"training accuracy score:\",(ac1*100).round(3))    #training accuracy score: 84.733\n",
    "ac2 = accuracy_score(Y_test,Y_pred_test)\n",
    "print(\"testing accuracy score:\",(ac2*100).round(3))     #testing accuracy score: 84.277"
   ]
  },
  {
   "cell_type": "code",
   "execution_count": 83,
   "id": "52f8cfef",
   "metadata": {},
   "outputs": [],
   "source": [
    "# Assuming we have X_train, Y_train, X_test, Y_test\n",
    "# Step 1: Split the training data into train and validation sets\n",
    "from sklearn.model_selection import train_test_split\n",
    "X_train, X_val, Y_train, Y_val = train_test_split(X_train, Y_train, train_size=0.75, random_state=42)"
   ]
  },
  {
   "cell_type": "code",
   "execution_count": 84,
   "id": "98819954",
   "metadata": {},
   "outputs": [],
   "source": [
    "# Step 2: Fit our model on the training set and evaluating  on the validation set\n",
    "from sklearn.svm import SVC\n",
    "svc = SVC(degree=3, kernel='poly') # linear function"
   ]
  },
  {
   "cell_type": "code",
   "execution_count": 85,
   "id": "53e32f23",
   "metadata": {},
   "outputs": [
    {
     "data": {
      "text/plain": [
       "SVC(kernel='poly')"
      ]
     },
     "execution_count": 85,
     "metadata": {},
     "output_type": "execute_result"
    }
   ],
   "source": [
    "svc.fit(X_train, Y_train)"
   ]
  },
  {
   "cell_type": "code",
   "execution_count": 86,
   "id": "6232c6ae",
   "metadata": {},
   "outputs": [],
   "source": [
    "Y_pred_train = svc.predict(X_train)\n",
    "Y_pred_val = svc.predict(X_val)"
   ]
  },
  {
   "cell_type": "code",
   "execution_count": 87,
   "id": "aa089ab2",
   "metadata": {},
   "outputs": [
    {
     "name": "stdout",
     "output_type": "stream",
     "text": [
      "Validation accuracy score: 0.834\n"
     ]
    }
   ],
   "source": [
    "# Step 3: Evaluating  the performance on the validation set\n",
    "from sklearn.metrics import accuracy_score\n",
    "ac_val = accuracy_score(Y_val, Y_pred_val)\n",
    "print(\"Validation accuracy score:\", ac_val.round(3))      #Validation accuracy score: 0.834"
   ]
  },
  {
   "cell_type": "code",
   "execution_count": 88,
   "id": "685947b4",
   "metadata": {},
   "outputs": [
    {
     "name": "stdout",
     "output_type": "stream",
     "text": [
      "Test accuracy score: 0.842\n"
     ]
    }
   ],
   "source": [
    "# Step 4: Once we have selected the best model,  we evaluate it on the independent test dataset\n",
    "Y_pred_test = svc.predict(X_test)\n",
    "ac_test = accuracy_score(Y_test, Y_pred_test)\n",
    "print(\"Test accuracy score:\", ac_test.round(3))     #Test accuracy score: 0.842"
   ]
  },
  {
   "cell_type": "code",
   "execution_count": 89,
   "id": "559679e2",
   "metadata": {},
   "outputs": [],
   "source": [
    "#Radial Basis Function\n",
    "#SVM\n",
    "from sklearn.svm import SVC\n",
    "svc =SVC(degree=3,kernel='rbf')  #Radial Basis Function"
   ]
  },
  {
   "cell_type": "code",
   "execution_count": 90,
   "id": "d63a9acd",
   "metadata": {},
   "outputs": [
    {
     "data": {
      "text/plain": [
       "SVC()"
      ]
     },
     "execution_count": 90,
     "metadata": {},
     "output_type": "execute_result"
    }
   ],
   "source": [
    "svc.fit(X_train,Y_train)"
   ]
  },
  {
   "cell_type": "code",
   "execution_count": 91,
   "id": "48819296",
   "metadata": {},
   "outputs": [],
   "source": [
    "Y_pred_train = svc.predict(X_train)\n",
    "Y_pred_test = svc.predict(X_test)"
   ]
  },
  {
   "cell_type": "code",
   "execution_count": 93,
   "id": "baaab153",
   "metadata": {},
   "outputs": [
    {
     "name": "stdout",
     "output_type": "stream",
     "text": [
      "Training accuracy score: 85.279\n",
      "Testing accuracy score: 84.521\n"
     ]
    }
   ],
   "source": [
    "#Metrics\n",
    "from sklearn.metrics import accuracy_score\n",
    "ac1 = accuracy_score(Y_train,Y_pred_train)\n",
    "print(\"Training accuracy score:\",(ac1*100).round(3))    #training accuracy score:  85.279\n",
    "ac2 = accuracy_score(Y_test,Y_pred_test)\n",
    "print(\"Testing accuracy score:\",(ac2*100).round(3))     #testing accuracy score:  84.521"
   ]
  },
  {
   "cell_type": "code",
   "execution_count": 94,
   "id": "f929fe0f",
   "metadata": {},
   "outputs": [],
   "source": [
    "# Assuming we have X_train, Y_train, X_test, Y_test\n",
    "# Step 1: Split the training data into train and validation sets\n",
    "from sklearn.model_selection import train_test_split\n",
    "X_train, X_val, Y_train, Y_val = train_test_split(X_train, Y_train, train_size=0.75, random_state=42)"
   ]
  },
  {
   "cell_type": "code",
   "execution_count": 95,
   "id": "b2fa7154",
   "metadata": {},
   "outputs": [],
   "source": [
    "# Step 2: Fit our model on the training set and evaluating  on the validation set\n",
    "from sklearn.svm import SVC\n",
    "svc = SVC(degree=3, kernel='rbf') # Radial Basis Function"
   ]
  },
  {
   "cell_type": "code",
   "execution_count": 96,
   "id": "386c53b2",
   "metadata": {},
   "outputs": [
    {
     "data": {
      "text/plain": [
       "SVC()"
      ]
     },
     "execution_count": 96,
     "metadata": {},
     "output_type": "execute_result"
    }
   ],
   "source": [
    "svc.fit(X_train, Y_train)"
   ]
  },
  {
   "cell_type": "code",
   "execution_count": 97,
   "id": "0832cb08",
   "metadata": {},
   "outputs": [],
   "source": [
    "Y_pred_train = svc.predict(X_train)\n",
    "Y_pred_val = svc.predict(X_val)"
   ]
  },
  {
   "cell_type": "code",
   "execution_count": 98,
   "id": "b18e772c",
   "metadata": {},
   "outputs": [
    {
     "name": "stdout",
     "output_type": "stream",
     "text": [
      "Validation accuracy score: 0.856\n"
     ]
    }
   ],
   "source": [
    "# Step 3: Evaluating  the performance on the validation set\n",
    "from sklearn.metrics import accuracy_score\n",
    "ac_val = accuracy_score(Y_val, Y_pred_val)\n",
    "print(\"Validation accuracy score:\", ac_val.round(3))"
   ]
  },
  {
   "cell_type": "code",
   "execution_count": 99,
   "id": "70d5f711",
   "metadata": {},
   "outputs": [
    {
     "name": "stdout",
     "output_type": "stream",
     "text": [
      "Test accuracy score: 0.846\n"
     ]
    }
   ],
   "source": [
    "# Step 4: Once we have selected the best model,  we evaluate it on the independent test dataset\n",
    "Y_pred_test = svc.predict(X_test)\n",
    "ac_test = accuracy_score(Y_test, Y_pred_test)\n",
    "print(\"Test accuracy score:\", ac_test.round(3))"
   ]
  },
  {
   "cell_type": "code",
   "execution_count": 100,
   "id": "d1f9e7ec",
   "metadata": {},
   "outputs": [
    {
     "name": "stdout",
     "output_type": "stream",
     "text": [
      "Accuracy: 0.8461483133136734\n",
      "Classification Report:\n",
      "               precision    recall  f1-score   support\n",
      "\n",
      "       <=50K       0.86      0.95      0.91     10741\n",
      "        >50K       0.74      0.49      0.59      3162\n",
      "\n",
      "    accuracy                           0.85     13903\n",
      "   macro avg       0.80      0.72      0.75     13903\n",
      "weighted avg       0.84      0.85      0.83     13903\n",
      "\n",
      "Confusion Matrix:\n",
      " [[10204   537]\n",
      " [ 1602  1560]]\n"
     ]
    }
   ],
   "source": [
    "#Validation accuracy score: 0.856\n",
    "#Test accuracy score: 0.846\n",
    "\n",
    "# Model evaluation\n",
    "from sklearn.metrics import accuracy_score,classification_report, confusion_matrix\n",
    "Y_pred = svc.predict(X_test)\n",
    "print(\"Accuracy:\", accuracy_score(Y_test, Y_pred))\n",
    "print(\"Classification Report:\\n\", classification_report(Y_test, Y_pred))\n",
    "print(\"Confusion Matrix:\\n\", confusion_matrix(Y_test, Y_pred))"
   ]
  },
  {
   "cell_type": "code",
   "execution_count": 101,
   "id": "5dd04165",
   "metadata": {},
   "outputs": [
    {
     "data": {
      "image/png": "[encoded data removed]",
      "text/plain": [
       "<Figure size 800x600 with 2 Axes>"
      ]
     },
     "metadata": {},
     "output_type": "display_data"
    }
   ],
   "source": [
    "# Visualization\n",
    "plt.figure(figsize=(8, 6))\n",
    "sns.heatmap(confusion_matrix(Y_test, Y_pred), annot=True, fmt='d', cmap='Blues', xticklabels=['<=50K', '>50K'], yticklabels=['<=50K', '>50K'])\n",
    "plt.xlabel('Predicted')\n",
    "plt.ylabel('True')\n",
    "plt.title('Confusion Matrix')\n",
    "plt.show()"
   ]
  },
  {
   "cell_type": "code",
   "execution_count": null,
   "id": "d7c9639f",
   "metadata": {},
   "outputs": [],
   "source": [
    "# The SVM model achieved an accuracy of approximately 84.6% on the test data. \n",
    "#This means that the model correctly predicted the salary category for about 84.6%\n",
    "''' For the \"<=50K\" category (individuals with salaries less than or equal to $50K):\n",
    " Precision (accuracy of positive predictions): 86% , Recall (true positive rate): 95% , \n",
    " F1-score (harmonic mean of precision and recall): 91%'''\n",
    "\n",
    "'''For the \">50K\" category (individuals with salaries greater than $50K):\n",
    "Precision: 74%\n",
    "Recall: 49%\n",
    "F1-score: 59%'''\n",
    "\n",
    "#The model performs better in predicting the \"<=50K\" category, with a higher precision, recall, and F1-score. \n",
    "#This indicates that the model is more accurate in identifying individuals with salaries less than or equal to $50K."
   ]
  }
 ],
 "metadata": {
  "kernelspec": {
   "display_name": "Python 3 (ipykernel)",
   "language": "python",
   "name": "python3"
  },
  "language_info": {
   "codemirror_mode": {
    "name": "ipython",
    "version": 3
   },
   "file_extension": ".py",
   "mimetype": "text/x-python",
   "name": "python",
   "nbconvert_exporter": "python",
   "pygments_lexer": "ipython3",
   "version": "3.9.13"
  }
 },
 "nbformat": 4,
 "nbformat_minor": 5
}
