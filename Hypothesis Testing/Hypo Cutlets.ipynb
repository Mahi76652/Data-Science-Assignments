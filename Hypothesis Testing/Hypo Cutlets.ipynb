{
 "cells": [
  {
   "cell_type": "code",
   "execution_count": 1,
   "id": "498b9ecd",
   "metadata": {},
   "outputs": [],
   "source": [
    "import numpy as np\n",
    "import pandas as pd "
   ]
  },
  {
   "cell_type": "code",
   "execution_count": 2,
   "id": "68a8b9e7",
   "metadata": {},
   "outputs": [
    {
     "data": {
      "text/html": [
       "<div>\n",
       "<style scoped>\n",
       "    .dataframe tbody tr th:only-of-type {\n",
       "        vertical-align: middle;\n",
       "    }\n",
       "\n",
       "    .dataframe tbody tr th {\n",
       "        vertical-align: top;\n",
       "    }\n",
       "\n",
       "    .dataframe thead th {\n",
       "        text-align: right;\n",
       "    }\n",
       "</style>\n",
       "<table border=\"1\" class=\"dataframe\">\n",
       "  <thead>\n",
       "    <tr style=\"text-align: right;\">\n",
       "      <th></th>\n",
       "      <th>Unit A</th>\n",
       "      <th>Unit B</th>\n",
       "    </tr>\n",
       "  </thead>\n",
       "  <tbody>\n",
       "    <tr>\n",
       "      <th>0</th>\n",
       "      <td>6.8090</td>\n",
       "      <td>6.7703</td>\n",
       "    </tr>\n",
       "    <tr>\n",
       "      <th>1</th>\n",
       "      <td>6.4376</td>\n",
       "      <td>7.5093</td>\n",
       "    </tr>\n",
       "    <tr>\n",
       "      <th>2</th>\n",
       "      <td>6.9157</td>\n",
       "      <td>6.7300</td>\n",
       "    </tr>\n",
       "    <tr>\n",
       "      <th>3</th>\n",
       "      <td>7.3012</td>\n",
       "      <td>6.7878</td>\n",
       "    </tr>\n",
       "    <tr>\n",
       "      <th>4</th>\n",
       "      <td>7.4488</td>\n",
       "      <td>7.1522</td>\n",
       "    </tr>\n",
       "  </tbody>\n",
       "</table>\n",
       "</div>"
      ],
      "text/plain": [
       "   Unit A  Unit B\n",
       "0  6.8090  6.7703\n",
       "1  6.4376  7.5093\n",
       "2  6.9157  6.7300\n",
       "3  7.3012  6.7878\n",
       "4  7.4488  7.1522"
      ]
     },
     "execution_count": 2,
     "metadata": {},
     "output_type": "execute_result"
    }
   ],
   "source": [
    "df  =pd.read_csv(\"C:\\\\Users\\\\PC-LENOVO\\\\Desktop\\\\ExcelR Assginments\\\\Hypothesis Testing\\\\Cutlets.csv\")\n",
    "df.head()"
   ]
  },
  {
   "cell_type": "code",
   "execution_count": 3,
   "id": "feb98005",
   "metadata": {},
   "outputs": [
    {
     "data": {
      "text/plain": [
       "7.01909142857143"
      ]
     },
     "execution_count": 3,
     "metadata": {},
     "output_type": "execute_result"
    }
   ],
   "source": [
    "# Sample data for cutlet diameter from two units\n",
    "df[\"Unit A\"].mean()"
   ]
  },
  {
   "cell_type": "code",
   "execution_count": 4,
   "id": "60f0d08c",
   "metadata": {},
   "outputs": [
    {
     "data": {
      "text/plain": [
       "6.964297142857142"
      ]
     },
     "execution_count": 4,
     "metadata": {},
     "output_type": "execute_result"
    }
   ],
   "source": [
    "df[\"Unit B\"].mean()"
   ]
  },
  {
   "cell_type": "code",
   "execution_count": 5,
   "id": "9e2a297e",
   "metadata": {},
   "outputs": [
    {
     "data": {
      "text/plain": [
       "6.8090    1\n",
       "7.2163    1\n",
       "6.9438    1\n",
       "7.1560    1\n",
       "6.5341    1\n",
       "7.2854    1\n",
       "6.9952    1\n",
       "6.8568    1\n",
       "6.6801    1\n",
       "7.2828    1\n",
       "6.9431    1\n",
       "7.0852    1\n",
       "6.7794    1\n",
       "7.2783    1\n",
       "7.1561    1\n",
       "7.3943    1\n",
       "7.3495    1\n",
       "7.2705    1\n",
       "6.4376    1\n",
       "6.6840    1\n",
       "6.9157    1\n",
       "7.3012    1\n",
       "7.4488    1\n",
       "7.3871    1\n",
       "6.8755    1\n",
       "7.0621    1\n",
       "6.8236    1\n",
       "6.5970    1\n",
       "7.3930    1\n",
       "7.5169    1\n",
       "6.9246    1\n",
       "6.9256    1\n",
       "6.5797    1\n",
       "6.8394    1\n",
       "6.9405    1\n",
       "Name: Unit A, dtype: int64"
      ]
     },
     "execution_count": 5,
     "metadata": {},
     "output_type": "execute_result"
    }
   ],
   "source": [
    "df[\"Unit A\"].value_counts()"
   ]
  },
  {
   "cell_type": "code",
   "execution_count": 6,
   "id": "1ef1b25e",
   "metadata": {},
   "outputs": [
    {
     "data": {
      "text/plain": [
       "6.7703    1\n",
       "7.0133    1\n",
       "6.8889    1\n",
       "7.4220    1\n",
       "6.5217    1\n",
       "7.1688    1\n",
       "6.7594    1\n",
       "6.9399    1\n",
       "6.9182    1\n",
       "7.3070    1\n",
       "6.3346    1\n",
       "7.5459    1\n",
       "7.0992    1\n",
       "7.1180    1\n",
       "6.6965    1\n",
       "6.5780    1\n",
       "6.7478    1\n",
       "7.4314    1\n",
       "7.5093    1\n",
       "7.2402    1\n",
       "6.7300    1\n",
       "6.7878    1\n",
       "7.1522    1\n",
       "6.8110    1\n",
       "7.2212    1\n",
       "6.6606    1\n",
       "7.0503    1\n",
       "6.6672    1\n",
       "6.8810    1\n",
       "7.4059    1\n",
       "6.7652    1\n",
       "6.0380    1\n",
       "7.1581    1\n",
       "7.0240    1\n",
       "7.3875    1\n",
       "Name: Unit B, dtype: int64"
      ]
     },
     "execution_count": 6,
     "metadata": {},
     "output_type": "execute_result"
    }
   ],
   "source": [
    "df[\"Unit B\"].value_counts()"
   ]
  },
  {
   "cell_type": "code",
   "execution_count": 7,
   "id": "831b098e",
   "metadata": {},
   "outputs": [
    {
     "name": "stderr",
     "output_type": "stream",
     "text": [
      "C:\\Users\\PC-LENOVO\\anaconda3\\lib\\site-packages\\scipy\\__init__.py:155: UserWarning: A NumPy version >=1.18.5 and <1.25.0 is required for this version of SciPy (detected version 1.26.3\n",
      "  warnings.warn(f\"A NumPy version >={np_minversion} and <{np_maxversion}\"\n"
     ]
    }
   ],
   "source": [
    "# Visualisation\n",
    "import seaborn as sns\n",
    "import matplotlib.pyplot as plt"
   ]
  },
  {
   "cell_type": "code",
   "execution_count": 8,
   "id": "c07a8a1d",
   "metadata": {},
   "outputs": [
    {
     "data": {
      "image/png": "[encoded data removed]",
      "text/plain": [
       "<Figure size 640x480 with 1 Axes>"
      ]
     },
     "metadata": {},
     "output_type": "display_data"
    }
   ],
   "source": [
    "# Create a boxplot\n",
    "sns.boxplot(x=\"variable\", y=\"value\", data=pd.melt(df))\n",
    "plt.title(\"Comparison of Cutlet Diameter Between Unit A and Unit B\")\n",
    "plt.xlabel(\"Unit\")\n",
    "plt.ylabel(\"Cutlet Diameter\")\n",
    "plt.show()"
   ]
  },
  {
   "cell_type": "code",
   "execution_count": 9,
   "id": "e822c0d9",
   "metadata": {},
   "outputs": [],
   "source": [
    "# Perform a two-sample t-test\n",
    "from scipy import stats"
   ]
  },
  {
   "cell_type": "code",
   "execution_count": 10,
   "id": "66a6409f",
   "metadata": {},
   "outputs": [],
   "source": [
    "tcal,pval=stats.ttest_ind(df[\"Unit A\"],df[\"Unit B\"])"
   ]
  },
  {
   "cell_type": "code",
   "execution_count": 11,
   "id": "6fdeb899",
   "metadata": {},
   "outputs": [
    {
     "name": "stdout",
     "output_type": "stream",
     "text": [
      "t-calculated value: 0.723\n",
      "p-value: 0.472\n"
     ]
    }
   ],
   "source": [
    "print(\"t-calculated value:\",tcal.round(3))           # Display the test statistics and p-value\n",
    "print(\"p-value:\",pval.round(3))"
   ]
  },
  {
   "cell_type": "code",
   "execution_count": 12,
   "id": "f2f49324",
   "metadata": {},
   "outputs": [],
   "source": [
    "# Define the significance level\n",
    "alpha =0.5"
   ]
  },
  {
   "cell_type": "code",
   "execution_count": 13,
   "id": "764abeba",
   "metadata": {},
   "outputs": [
    {
     "name": "stdout",
     "output_type": "stream",
     "text": [
      "H0 is rejected,H1 is accepted\n"
     ]
    }
   ],
   "source": [
    "if pval<alpha:     # Check if the p-value is less than the significance level\n",
    "    print(\"H0 is rejected,H1 is accepted\")\n",
    "else:\n",
    "    print(\"H1 is rejected,H0 is accepted\")"
   ]
  },
  {
   "cell_type": "code",
   "execution_count": null,
   "id": "632f8e8c",
   "metadata": {},
   "outputs": [],
   "source": [
    "# Test Result: The p-value of 0.472 is greater than the significance level of 0.05.\n",
    "# Decision: As a result, you fail to reject the null hypothesis (H0).\n",
    "# Conclusion: There is not enough evidence to conclude that there is a significant difference \n",
    "#in the mean cutlet diameter between Unit A and Unit B."
   ]
  }
 ],
 "metadata": {
  "kernelspec": {
   "display_name": "Python 3 (ipykernel)",
   "language": "python",
   "name": "python3"
  },
  "language_info": {
   "codemirror_mode": {
    "name": "ipython",
    "version": 3
   },
   "file_extension": ".py",
   "mimetype": "text/x-python",
   "name": "python",
   "nbconvert_exporter": "python",
   "pygments_lexer": "ipython3",
   "version": "3.9.13"
  }
 },
 "nbformat": 4,
 "nbformat_minor": 5
}
